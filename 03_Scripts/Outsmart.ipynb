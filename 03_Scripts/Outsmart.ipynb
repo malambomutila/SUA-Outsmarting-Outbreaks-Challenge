{
  "cells": [
    {
      "cell_type": "code",
      "execution_count": 1,
      "metadata": {
        "id": "eoOtsnpOmSMO"
      },
      "outputs": [],
      "source": [
        "# Import necessary libraries\n",
        "import sys\n",
        "import logging\n",
        "import pandas as pd\n",
        "import numpy as np\n",
        "\n",
        "import matplotlib.pyplot as plt\n",
        "import seaborn as sns\n",
        "\n",
        "from scipy.spatial import cKDTree\n",
        "from scipy.stats import zscore\n",
        "\n",
        "from sklearn.model_selection import train_test_split\n",
        "from sklearn.ensemble import RandomForestRegressor\n",
        "from sklearn.preprocessing import LabelEncoder\n",
        "from sklearn.metrics import mean_absolute_error\n",
        "\n",
        "from pathlib import Path"
      ]
    },
    {
      "cell_type": "code",
      "execution_count": 2,
      "metadata": {},
      "outputs": [],
      "source": [
        "# Setup logging\n",
        "logging.basicConfig(level=logging.INFO)\n",
        "logger = logging.getLogger(__name__)"
      ]
    },
    {
      "cell_type": "code",
      "execution_count": 3,
      "metadata": {},
      "outputs": [],
      "source": [
        "# Set Base Directory\n",
        "base_dir = Path.cwd().parent  # Moves one level up from current working directory\n",
        "\n",
        "# Data Directory\n",
        "data_dir = base_dir / '02_Data'"
      ]
    },
    {
      "cell_type": "code",
      "execution_count": 4,
      "metadata": {
        "id": "77s3XlNnm1Ic"
      },
      "outputs": [],
      "source": [
        "# Load datasets\n",
        "train = pd.read_csv(data_dir / \"Train.csv\")\n",
        "test = pd.read_csv(data_dir / \"Test.csv\")\n",
        "toilets = pd.read_csv(data_dir / \"toilets.csv\")\n",
        "waste_management = pd.read_csv(data_dir / \"waste_management.csv\")\n",
        "water_sources = pd.read_csv(data_dir / \"water_sources.csv\")"
      ]
    },
    {
      "cell_type": "markdown",
      "metadata": {},
      "source": [
        "# EDA"
      ]
    },
    {
      "cell_type": "markdown",
      "metadata": {},
      "source": [
        "### Shapes"
      ]
    },
    {
      "cell_type": "code",
      "execution_count": 5,
      "metadata": {},
      "outputs": [
        {
          "data": {
            "text/plain": [
              "(23848, 9)"
            ]
          },
          "execution_count": 5,
          "metadata": {},
          "output_type": "execute_result"
        }
      ],
      "source": [
        "train.shape"
      ]
    },
    {
      "cell_type": "code",
      "execution_count": 6,
      "metadata": {},
      "outputs": [
        {
          "data": {
            "text/plain": [
              "(4872, 8)"
            ]
          },
          "execution_count": 6,
          "metadata": {},
          "output_type": "execute_result"
        }
      ],
      "source": [
        "test.shape"
      ]
    },
    {
      "cell_type": "code",
      "execution_count": 7,
      "metadata": {},
      "outputs": [
        {
          "data": {
            "text/plain": [
              "(10680, 43)"
            ]
          },
          "execution_count": 7,
          "metadata": {},
          "output_type": "execute_result"
        }
      ],
      "source": [
        "toilets.shape"
      ]
    },
    {
      "cell_type": "code",
      "execution_count": 8,
      "metadata": {},
      "outputs": [
        {
          "data": {
            "text/plain": [
              "(5100, 43)"
            ]
          },
          "execution_count": 8,
          "metadata": {},
          "output_type": "execute_result"
        }
      ],
      "source": [
        "waste_management.shape"
      ]
    },
    {
      "cell_type": "code",
      "execution_count": 9,
      "metadata": {},
      "outputs": [
        {
          "data": {
            "text/plain": [
              "(10560, 43)"
            ]
          },
          "execution_count": 9,
          "metadata": {},
          "output_type": "execute_result"
        }
      ],
      "source": [
        "water_sources.shape"
      ]
    },
    {
      "cell_type": "markdown",
      "metadata": {},
      "source": [
        "### Non-null counts and Dtypes"
      ]
    },
    {
      "cell_type": "code",
      "execution_count": 10,
      "metadata": {},
      "outputs": [
        {
          "name": "stdout",
          "output_type": "stream",
          "text": [
            "Train Data Info\n",
            "\n",
            "<class 'pandas.core.frame.DataFrame'>\n",
            "RangeIndex: 23848 entries, 0 to 23847\n",
            "Data columns (total 9 columns):\n",
            " #   Column                         Non-Null Count  Dtype  \n",
            "---  ------                         --------------  -----  \n",
            " 0   ID                             23848 non-null  object \n",
            " 1   Total                          23847 non-null  float64\n",
            " 2   Location                       23848 non-null  object \n",
            " 3   Category_Health_Facility_UUID  23848 non-null  object \n",
            " 4   Disease                        23848 non-null  object \n",
            " 5   Month                          23848 non-null  int64  \n",
            " 6   Year                           23848 non-null  int64  \n",
            " 7   Transformed_Latitude           23848 non-null  float64\n",
            " 8   Transformed_Longitude          23848 non-null  float64\n",
            "dtypes: float64(3), int64(2), object(4)\n",
            "memory usage: 1.6+ MB\n"
          ]
        }
      ],
      "source": [
        "print(\"Train Data Info\\n\")\n",
        "train.info()"
      ]
    },
    {
      "cell_type": "code",
      "execution_count": 11,
      "metadata": {},
      "outputs": [
        {
          "name": "stdout",
          "output_type": "stream",
          "text": [
            "Test Data Info\n",
            "\n",
            "<class 'pandas.core.frame.DataFrame'>\n",
            "RangeIndex: 4872 entries, 0 to 4871\n",
            "Data columns (total 8 columns):\n",
            " #   Column                         Non-Null Count  Dtype  \n",
            "---  ------                         --------------  -----  \n",
            " 0   Location                       4872 non-null   object \n",
            " 1   Disease                        4872 non-null   object \n",
            " 2   Month                          4872 non-null   int64  \n",
            " 3   Category_Health_Facility_UUID  4872 non-null   object \n",
            " 4   Year                           4872 non-null   int64  \n",
            " 5   Transformed_Latitude           4872 non-null   float64\n",
            " 6   Transformed_Longitude          4872 non-null   float64\n",
            " 7   ID                             4872 non-null   object \n",
            "dtypes: float64(2), int64(2), object(4)\n",
            "memory usage: 304.6+ KB\n"
          ]
        }
      ],
      "source": [
        "print(\"Test Data Info\\n\")\n",
        "test.info()"
      ]
    },
    {
      "cell_type": "markdown",
      "metadata": {},
      "source": [
        "### Number of Missing Values"
      ]
    },
    {
      "cell_type": "code",
      "execution_count": 12,
      "metadata": {},
      "outputs": [
        {
          "name": "stdout",
          "output_type": "stream",
          "text": [
            "Train Data - Number of Missing Values\n",
            "\n"
          ]
        },
        {
          "data": {
            "text/plain": [
              "ID                               0\n",
              "Total                            1\n",
              "Location                         0\n",
              "Category_Health_Facility_UUID    0\n",
              "Disease                          0\n",
              "Month                            0\n",
              "Year                             0\n",
              "Transformed_Latitude             0\n",
              "Transformed_Longitude            0\n",
              "dtype: int64"
            ]
          },
          "execution_count": 12,
          "metadata": {},
          "output_type": "execute_result"
        }
      ],
      "source": [
        "print(\"Train Data - Number of Missing Values\\n\")\n",
        "train.isnull().sum()"
      ]
    },
    {
      "cell_type": "code",
      "execution_count": 13,
      "metadata": {},
      "outputs": [
        {
          "name": "stdout",
          "output_type": "stream",
          "text": [
            "Test Data - Number of Missing Values\n",
            "\n"
          ]
        },
        {
          "data": {
            "text/plain": [
              "Location                         0\n",
              "Disease                          0\n",
              "Month                            0\n",
              "Category_Health_Facility_UUID    0\n",
              "Year                             0\n",
              "Transformed_Latitude             0\n",
              "Transformed_Longitude            0\n",
              "ID                               0\n",
              "dtype: int64"
            ]
          },
          "execution_count": 13,
          "metadata": {},
          "output_type": "execute_result"
        }
      ],
      "source": [
        "print(\"Test Data - Number of Missing Values\\n\")\n",
        "test.isnull().sum()"
      ]
    },
    {
      "cell_type": "markdown",
      "metadata": {},
      "source": [
        "### Duplicates"
      ]
    },
    {
      "cell_type": "code",
      "execution_count": 14,
      "metadata": {},
      "outputs": [
        {
          "name": "stdout",
          "output_type": "stream",
          "text": [
            "6675\n"
          ]
        }
      ],
      "source": [
        "duplicate_count = train.duplicated().sum()\n",
        "print(duplicate_count)"
      ]
    },
    {
      "cell_type": "code",
      "execution_count": 15,
      "metadata": {},
      "outputs": [
        {
          "name": "stdout",
          "output_type": "stream",
          "text": [
            "0\n"
          ]
        }
      ],
      "source": [
        "duplicate_count_test = test.duplicated().sum()\n",
        "print(duplicate_count_test)"
      ]
    },
    {
      "cell_type": "markdown",
      "metadata": {},
      "source": [
        "### Outliers"
      ]
    },
    {
      "cell_type": "code",
      "execution_count": 16,
      "metadata": {},
      "outputs": [
        {
          "data": {
            "image/png": "[encoded data removed]",
            "text/plain": [
              "<Figure size 1200x600 with 1 Axes>"
            ]
          },
          "metadata": {},
          "output_type": "display_data"
        },
        {
          "data": {
            "image/png": "[encoded data removed]",
            "text/plain": [
              "<Figure size 1200x600 with 1 Axes>"
            ]
          },
          "metadata": {},
          "output_type": "display_data"
        }
      ],
      "source": [
        "# Function to plot boxplots for numerical features\n",
        "def plot_boxplots(df, title):\n",
        "    plt.figure(figsize=(12, 6))\n",
        "    sns.boxplot(data=df.select_dtypes(include=['number']))\n",
        "    plt.xticks(rotation=45)\n",
        "    plt.title(title)\n",
        "    plt.show()\n",
        "\n",
        "# Boxplots\n",
        "plot_boxplots(train, \"Boxplot of Numerical Features (Train Dataset)\")\n",
        "plot_boxplots(test, \"Boxplot of Numerical Features (Test Dataset)\")\n"
      ]
    },
    {
      "cell_type": "markdown",
      "metadata": {},
      "source": [
        "### Outliers Using IQR"
      ]
    },
    {
      "cell_type": "code",
      "execution_count": 17,
      "metadata": {},
      "outputs": [],
      "source": [
        "def detect_outliers_iqr(data, multiplier=1.5):\n",
        "    \"\"\"Detects outliers in a given Pandas Series using the IQR method.\"\"\"\n",
        "    q1 = np.percentile(data.dropna(), 25)\n",
        "    q3 = np.percentile(data.dropna(), 75)\n",
        "    IQR = q3 - q1\n",
        "    lwr_bound = q1 - (1.5 * IQR)\n",
        "    upr_bound = q3 + (multiplier * IQR)\n",
        "\n",
        "    return data[(data < lwr_bound) | (data > upr_bound)].index"
      ]
    },
    {
      "cell_type": "markdown",
      "metadata": {},
      "source": [
        "### Summary Statistics"
      ]
    },
    {
      "cell_type": "code",
      "execution_count": 18,
      "metadata": {},
      "outputs": [
        {
          "name": "stdout",
          "output_type": "stream",
          "text": [
            "Train Data - Summary Stats\n",
            "\n"
          ]
        },
        {
          "data": {
            "text/html": [
              "<div>\n",
              "<style scoped>\n",
              "    .dataframe tbody tr th:only-of-type {\n",
              "        vertical-align: middle;\n",
              "    }\n",
              "\n",
              "    .dataframe tbody tr th {\n",
              "        vertical-align: top;\n",
              "    }\n",
              "\n",
              "    .dataframe thead th {\n",
              "        text-align: right;\n",
              "    }\n",
              "</style>\n",
              "<table border=\"1\" class=\"dataframe\">\n",
              "  <thead>\n",
              "    <tr style=\"text-align: right;\">\n",
              "      <th></th>\n",
              "      <th>Total</th>\n",
              "      <th>Month</th>\n",
              "      <th>Year</th>\n",
              "      <th>Transformed_Latitude</th>\n",
              "      <th>Transformed_Longitude</th>\n",
              "    </tr>\n",
              "  </thead>\n",
              "  <tbody>\n",
              "    <tr>\n",
              "      <th>count</th>\n",
              "      <td>23847.000000</td>\n",
              "      <td>23848.000000</td>\n",
              "      <td>23848.000000</td>\n",
              "      <td>23848.00000</td>\n",
              "      <td>23848.000000</td>\n",
              "    </tr>\n",
              "    <tr>\n",
              "      <th>mean</th>\n",
              "      <td>8.355600</td>\n",
              "      <td>6.568643</td>\n",
              "      <td>2020.610282</td>\n",
              "      <td>-8.61252</td>\n",
              "      <td>68.242682</td>\n",
              "    </tr>\n",
              "    <tr>\n",
              "      <th>std</th>\n",
              "      <td>28.076713</td>\n",
              "      <td>3.445577</td>\n",
              "      <td>1.133108</td>\n",
              "      <td>0.04251</td>\n",
              "      <td>0.029114</td>\n",
              "    </tr>\n",
              "    <tr>\n",
              "      <th>min</th>\n",
              "      <td>0.000000</td>\n",
              "      <td>1.000000</td>\n",
              "      <td>2019.000000</td>\n",
              "      <td>-8.71376</td>\n",
              "      <td>68.169720</td>\n",
              "    </tr>\n",
              "    <tr>\n",
              "      <th>25%</th>\n",
              "      <td>0.000000</td>\n",
              "      <td>4.000000</td>\n",
              "      <td>2020.000000</td>\n",
              "      <td>-8.62656</td>\n",
              "      <td>68.224740</td>\n",
              "    </tr>\n",
              "    <tr>\n",
              "      <th>50%</th>\n",
              "      <td>0.000000</td>\n",
              "      <td>7.000000</td>\n",
              "      <td>2021.000000</td>\n",
              "      <td>-8.61740</td>\n",
              "      <td>68.237620</td>\n",
              "    </tr>\n",
              "    <tr>\n",
              "      <th>75%</th>\n",
              "      <td>3.000000</td>\n",
              "      <td>10.000000</td>\n",
              "      <td>2022.000000</td>\n",
              "      <td>-8.59431</td>\n",
              "      <td>68.257640</td>\n",
              "    </tr>\n",
              "    <tr>\n",
              "      <th>max</th>\n",
              "      <td>489.000000</td>\n",
              "      <td>12.000000</td>\n",
              "      <td>2022.000000</td>\n",
              "      <td>-8.49681</td>\n",
              "      <td>68.328390</td>\n",
              "    </tr>\n",
              "  </tbody>\n",
              "</table>\n",
              "</div>"
            ],
            "text/plain": [
              "              Total         Month          Year  Transformed_Latitude  \\\n",
              "count  23847.000000  23848.000000  23848.000000           23848.00000   \n",
              "mean       8.355600      6.568643   2020.610282              -8.61252   \n",
              "std       28.076713      3.445577      1.133108               0.04251   \n",
              "min        0.000000      1.000000   2019.000000              -8.71376   \n",
              "25%        0.000000      4.000000   2020.000000              -8.62656   \n",
              "50%        0.000000      7.000000   2021.000000              -8.61740   \n",
              "75%        3.000000     10.000000   2022.000000              -8.59431   \n",
              "max      489.000000     12.000000   2022.000000              -8.49681   \n",
              "\n",
              "       Transformed_Longitude  \n",
              "count           23848.000000  \n",
              "mean               68.242682  \n",
              "std                 0.029114  \n",
              "min                68.169720  \n",
              "25%                68.224740  \n",
              "50%                68.237620  \n",
              "75%                68.257640  \n",
              "max                68.328390  "
            ]
          },
          "execution_count": 18,
          "metadata": {},
          "output_type": "execute_result"
        }
      ],
      "source": [
        "print(\"Train Data - Summary Stats\\n\")\n",
        "\n",
        "train.describe()"
      ]
    },
    {
      "cell_type": "code",
      "execution_count": 19,
      "metadata": {},
      "outputs": [
        {
          "name": "stdout",
          "output_type": "stream",
          "text": [
            "Test Data - Summary Stats\n",
            "\n"
          ]
        },
        {
          "data": {
            "text/html": [
              "<div>\n",
              "<style scoped>\n",
              "    .dataframe tbody tr th:only-of-type {\n",
              "        vertical-align: middle;\n",
              "    }\n",
              "\n",
              "    .dataframe tbody tr th {\n",
              "        vertical-align: top;\n",
              "    }\n",
              "\n",
              "    .dataframe thead th {\n",
              "        text-align: right;\n",
              "    }\n",
              "</style>\n",
              "<table border=\"1\" class=\"dataframe\">\n",
              "  <thead>\n",
              "    <tr style=\"text-align: right;\">\n",
              "      <th></th>\n",
              "      <th>Month</th>\n",
              "      <th>Year</th>\n",
              "      <th>Transformed_Latitude</th>\n",
              "      <th>Transformed_Longitude</th>\n",
              "    </tr>\n",
              "  </thead>\n",
              "  <tbody>\n",
              "    <tr>\n",
              "      <th>count</th>\n",
              "      <td>4872.000000</td>\n",
              "      <td>4872.0</td>\n",
              "      <td>4872.000000</td>\n",
              "      <td>4872.000000</td>\n",
              "    </tr>\n",
              "    <tr>\n",
              "      <th>mean</th>\n",
              "      <td>6.500000</td>\n",
              "      <td>2023.0</td>\n",
              "      <td>-8.609202</td>\n",
              "      <td>68.239384</td>\n",
              "    </tr>\n",
              "    <tr>\n",
              "      <th>std</th>\n",
              "      <td>3.452407</td>\n",
              "      <td>0.0</td>\n",
              "      <td>0.041923</td>\n",
              "      <td>0.028248</td>\n",
              "    </tr>\n",
              "    <tr>\n",
              "      <th>min</th>\n",
              "      <td>1.000000</td>\n",
              "      <td>2023.0</td>\n",
              "      <td>-8.713760</td>\n",
              "      <td>68.169720</td>\n",
              "    </tr>\n",
              "    <tr>\n",
              "      <th>25%</th>\n",
              "      <td>3.750000</td>\n",
              "      <td>2023.0</td>\n",
              "      <td>-8.626560</td>\n",
              "      <td>68.224400</td>\n",
              "    </tr>\n",
              "    <tr>\n",
              "      <th>50%</th>\n",
              "      <td>6.500000</td>\n",
              "      <td>2023.0</td>\n",
              "      <td>-8.617375</td>\n",
              "      <td>68.235815</td>\n",
              "    </tr>\n",
              "    <tr>\n",
              "      <th>75%</th>\n",
              "      <td>9.250000</td>\n",
              "      <td>2023.0</td>\n",
              "      <td>-8.591610</td>\n",
              "      <td>68.252550</td>\n",
              "    </tr>\n",
              "    <tr>\n",
              "      <th>max</th>\n",
              "      <td>12.000000</td>\n",
              "      <td>2023.0</td>\n",
              "      <td>-8.496810</td>\n",
              "      <td>68.328390</td>\n",
              "    </tr>\n",
              "  </tbody>\n",
              "</table>\n",
              "</div>"
            ],
            "text/plain": [
              "             Month    Year  Transformed_Latitude  Transformed_Longitude\n",
              "count  4872.000000  4872.0           4872.000000            4872.000000\n",
              "mean      6.500000  2023.0             -8.609202              68.239384\n",
              "std       3.452407     0.0              0.041923               0.028248\n",
              "min       1.000000  2023.0             -8.713760              68.169720\n",
              "25%       3.750000  2023.0             -8.626560              68.224400\n",
              "50%       6.500000  2023.0             -8.617375              68.235815\n",
              "75%       9.250000  2023.0             -8.591610              68.252550\n",
              "max      12.000000  2023.0             -8.496810              68.328390"
            ]
          },
          "execution_count": 19,
          "metadata": {},
          "output_type": "execute_result"
        }
      ],
      "source": [
        "print(\"Test Data - Summary Stats\\n\")\n",
        "\n",
        "test.describe()"
      ]
    },
    {
      "cell_type": "markdown",
      "metadata": {},
      "source": [
        "### Variable Distribution"
      ]
    },
    {
      "cell_type": "code",
      "execution_count": 20,
      "metadata": {},
      "outputs": [],
      "source": [
        "# # Plot target variable distribution\n",
        "# plt.figure(figsize=(10, 5))\n",
        "# sns.histplot(train['Total'], bins=30, kde=True)\n",
        "# plt.title(\"Distribution of Total Variable\")\n",
        "# plt.show()"
      ]
    },
    {
      "cell_type": "markdown",
      "metadata": {},
      "source": [
        "### Correlation in Train Data"
      ]
    },
    {
      "cell_type": "code",
      "execution_count": 21,
      "metadata": {},
      "outputs": [],
      "source": [
        "# # Select only numeric columns\n",
        "# numeric_cols = train.select_dtypes(include=['number'])\n",
        "\n",
        "# # Compute correlation only for numeric features\n",
        "# plt.figure(figsize=(12, 6))\n",
        "# sns.heatmap(numeric_cols.corr(), annot=True, cmap='coolwarm', fmt='.2f', linewidths=0.5)\n",
        "# plt.title(\"Feature Correlation Heatmap\")\n",
        "# plt.show()\n"
      ]
    },
    {
      "cell_type": "markdown",
      "metadata": {},
      "source": [
        "# Preprocessing"
      ]
    },
    {
      "cell_type": "markdown",
      "metadata": {},
      "source": [
        "## Supplementary Datasets"
      ]
    },
    {
      "cell_type": "markdown",
      "metadata": {},
      "source": [
        "### Unnecessary Columns"
      ]
    },
    {
      "cell_type": "code",
      "execution_count": 22,
      "metadata": {},
      "outputs": [],
      "source": [
        "# Drop unnecessary columns from supplementary datasets\n",
        "for df in [toilets, waste_management, water_sources]:\n",
        "    df.drop(columns=['Year', 'Month'], inplace=True)"
      ]
    },
    {
      "cell_type": "markdown",
      "metadata": {},
      "source": [
        "### Missing Values"
      ]
    },
    {
      "cell_type": "code",
      "execution_count": 23,
      "metadata": {},
      "outputs": [
        {
          "data": {
            "text/plain": [
              "10u                      0\n",
              "10v                      0\n",
              "2d                       0\n",
              "2t                       0\n",
              "evabs                    0\n",
              "evaow                    0\n",
              "evatc                    0\n",
              "evavt                    0\n",
              "albedo                   0\n",
              "lshf                     0\n",
              "lai_hv                   0\n",
              "lai_lv                   0\n",
              "pev                      0\n",
              "ro                       0\n",
              "src                      0\n",
              "skt                      0\n",
              "es                       0\n",
              "stl1                     0\n",
              "stl2                     0\n",
              "stl3                     0\n",
              "stl4                     0\n",
              "ssro                     0\n",
              "slhf                     0\n",
              "ssr                      0\n",
              "str                      0\n",
              "sp                       0\n",
              "sro                      0\n",
              "sshf                     0\n",
              "ssrd                     0\n",
              "strd                     0\n",
              "e                        0\n",
              "tp                       0\n",
              "swvl1                    0\n",
              "swvl2                    0\n",
              "swvl3                    0\n",
              "swvl4                    0\n",
              "Transformed_Latitude     0\n",
              "Transformed_Longitude    0\n",
              "Month_Year               0\n",
              "lat_lon                  0\n",
              "Month_Year_lat_lon       0\n",
              "dtype: int64"
            ]
          },
          "execution_count": 23,
          "metadata": {},
          "output_type": "execute_result"
        }
      ],
      "source": [
        "# Number of Missing Values\n",
        "toilets.isnull().sum()"
      ]
    },
    {
      "cell_type": "code",
      "execution_count": 24,
      "metadata": {},
      "outputs": [
        {
          "data": {
            "text/plain": [
              "10u                      0\n",
              "10v                      0\n",
              "2d                       0\n",
              "2t                       0\n",
              "evabs                    0\n",
              "evaow                    0\n",
              "evatc                    0\n",
              "evavt                    0\n",
              "albedo                   0\n",
              "lshf                     0\n",
              "lai_hv                   0\n",
              "lai_lv                   0\n",
              "pev                      0\n",
              "ro                       0\n",
              "src                      0\n",
              "skt                      0\n",
              "es                       0\n",
              "stl1                     0\n",
              "stl2                     0\n",
              "stl3                     0\n",
              "stl4                     0\n",
              "ssro                     0\n",
              "slhf                     0\n",
              "ssr                      0\n",
              "str                      0\n",
              "sp                       0\n",
              "sro                      0\n",
              "sshf                     0\n",
              "ssrd                     0\n",
              "strd                     0\n",
              "e                        0\n",
              "tp                       0\n",
              "swvl1                    0\n",
              "swvl2                    0\n",
              "swvl3                    0\n",
              "swvl4                    0\n",
              "Transformed_Latitude     0\n",
              "Transformed_Longitude    0\n",
              "Month_Year               0\n",
              "lat_lon                  0\n",
              "Month_Year_lat_lon       0\n",
              "dtype: int64"
            ]
          },
          "execution_count": 24,
          "metadata": {},
          "output_type": "execute_result"
        }
      ],
      "source": [
        "# Number of Missing Values\n",
        "waste_management.isnull().sum()"
      ]
    },
    {
      "cell_type": "code",
      "execution_count": 25,
      "metadata": {},
      "outputs": [
        {
          "data": {
            "text/plain": [
              "10u                       0\n",
              "10v                       0\n",
              "2d                        0\n",
              "2t                        0\n",
              "evabs                     0\n",
              "evaow                     0\n",
              "evatc                     0\n",
              "evavt                     0\n",
              "albedo                    0\n",
              "lshf                      0\n",
              "lai_hv                    0\n",
              "lai_lv                    0\n",
              "pev                       0\n",
              "ro                        0\n",
              "src                       0\n",
              "skt                       0\n",
              "es                        0\n",
              "stl1                      0\n",
              "stl2                      0\n",
              "stl3                      0\n",
              "stl4                      0\n",
              "ssro                      0\n",
              "slhf                      0\n",
              "ssr                       0\n",
              "str                       0\n",
              "sp                        0\n",
              "sro                       0\n",
              "sshf                      0\n",
              "ssrd                      0\n",
              "strd                      0\n",
              "e                         0\n",
              "tp                        0\n",
              "swvl1                     0\n",
              "swvl2                     0\n",
              "swvl3                     0\n",
              "swvl4                     0\n",
              "Transformed_Latitude     60\n",
              "Transformed_Longitude    60\n",
              "Month_Year                0\n",
              "lat_lon                   0\n",
              "Month_Year_lat_lon        0\n",
              "dtype: int64"
            ]
          },
          "execution_count": 25,
          "metadata": {},
          "output_type": "execute_result"
        }
      ],
      "source": [
        "# Number of Missing Values\n",
        "water_sources.isnull().sum()"
      ]
    },
    {
      "cell_type": "code",
      "execution_count": 26,
      "metadata": {},
      "outputs": [],
      "source": [
        "# Drop rows with missing latitude and longitude in water sources\n",
        "water_sources.dropna(subset=['Transformed_Latitude'], inplace=True)"
      ]
    },
    {
      "cell_type": "markdown",
      "metadata": {},
      "source": [
        "### Prefixes"
      ]
    },
    {
      "cell_type": "code",
      "execution_count": 27,
      "metadata": {},
      "outputs": [],
      "source": [
        "# Rename columns for clarity\n",
        "def rename_columns(df, prefix):\n",
        "    for col in df.columns:\n",
        "        if col not in ['Month_Year_lat_lon', 'lat_lon']:\n",
        "            df.rename(columns={col: f\"{prefix}_{col}\"}, inplace=True)\n",
        "\n",
        "rename_columns(toilets, \"toilet\")\n",
        "rename_columns(waste_management, \"waste\")\n",
        "rename_columns(water_sources, \"water\")"
      ]
    },
    {
      "cell_type": "markdown",
      "metadata": {},
      "source": [
        "## Train and Test"
      ]
    },
    {
      "cell_type": "markdown",
      "metadata": {},
      "source": [
        "### Missing Values"
      ]
    },
    {
      "cell_type": "code",
      "execution_count": 28,
      "metadata": {},
      "outputs": [
        {
          "data": {
            "text/plain": [
              "ID                               0\n",
              "Total                            0\n",
              "Location                         0\n",
              "Category_Health_Facility_UUID    0\n",
              "Disease                          0\n",
              "Month                            0\n",
              "Year                             0\n",
              "Transformed_Latitude             0\n",
              "Transformed_Longitude            0\n",
              "dtype: int64"
            ]
          },
          "execution_count": 28,
          "metadata": {},
          "output_type": "execute_result"
        }
      ],
      "source": [
        "# Imputing with Median\n",
        "train.loc[:, 'Total'] = train['Total'].fillna(train['Total'].median())\n",
        "\n",
        "# Number of Missing Values\n",
        "train.isnull().sum()"
      ]
    },
    {
      "cell_type": "markdown",
      "metadata": {},
      "source": [
        "## Merge Datasets"
      ]
    },
    {
      "cell_type": "code",
      "execution_count": 29,
      "metadata": {},
      "outputs": [],
      "source": [
        "def find_nearest(data_df, location_df, lat_col, lon_col, id_col):\n",
        "    # Create a cKDTree for efficient nearest neighbour search\n",
        "    tree = cKDTree(location_df[[lat_col, lon_col]].values)\n",
        "    nearest = {}\n",
        "    # Loop through each data_df and find the nearest site in location_df\n",
        "    for _, row in data_df.iterrows():\n",
        "        _, idx = tree.query([row['Transformed_Latitude'], row['Transformed_Longitude']])\n",
        "        nearest[row['ID']] = location_df.iloc[idx][id_col]\n",
        "    return nearest\n"
      ]
    },
    {
      "cell_type": "code",
      "execution_count": 30,
      "metadata": {},
      "outputs": [],
      "source": [
        "# Ensure unique identifier columns exist in all supplementary datasets\n",
        "for df, prefix in [(toilets, 'toilet'), (waste_management, 'waste'), (water_sources, 'water')]:\n",
        "    df[f\"{prefix}_Month_Year_lat_lon\"] = (\n",
        "        df[f\"{prefix}_Month_Year\"] + '_' +\n",
        "        df[f\"{prefix}_Transformed_Latitude\"].astype(str) + '_' +\n",
        "        df[f\"{prefix}_Transformed_Longitude\"].astype(str)\n",
        "    )"
      ]
    },
    {
      "cell_type": "code",
      "execution_count": 31,
      "metadata": {},
      "outputs": [
        {
          "data": {
            "text/html": [
              "<div>\n",
              "<style scoped>\n",
              "    .dataframe tbody tr th:only-of-type {\n",
              "        vertical-align: middle;\n",
              "    }\n",
              "\n",
              "    .dataframe tbody tr th {\n",
              "        vertical-align: top;\n",
              "    }\n",
              "\n",
              "    .dataframe thead th {\n",
              "        text-align: right;\n",
              "    }\n",
              "</style>\n",
              "<table border=\"1\" class=\"dataframe\">\n",
              "  <thead>\n",
              "    <tr style=\"text-align: right;\">\n",
              "      <th></th>\n",
              "      <th>toilet_10u</th>\n",
              "      <th>toilet_10v</th>\n",
              "      <th>toilet_2d</th>\n",
              "      <th>toilet_2t</th>\n",
              "      <th>toilet_evabs</th>\n",
              "      <th>toilet_evaow</th>\n",
              "      <th>toilet_evatc</th>\n",
              "      <th>toilet_evavt</th>\n",
              "      <th>toilet_albedo</th>\n",
              "      <th>toilet_lshf</th>\n",
              "      <th>...</th>\n",
              "      <th>toilet_swvl1</th>\n",
              "      <th>toilet_swvl2</th>\n",
              "      <th>toilet_swvl3</th>\n",
              "      <th>toilet_swvl4</th>\n",
              "      <th>toilet_Transformed_Latitude</th>\n",
              "      <th>toilet_Transformed_Longitude</th>\n",
              "      <th>toilet_Month_Year</th>\n",
              "      <th>lat_lon</th>\n",
              "      <th>Month_Year_lat_lon</th>\n",
              "      <th>toilet_Month_Year_lat_lon</th>\n",
              "    </tr>\n",
              "  </thead>\n",
              "  <tbody>\n",
              "    <tr>\n",
              "      <th>0</th>\n",
              "      <td>-1.006850</td>\n",
              "      <td>-0.714544</td>\n",
              "      <td>293.502</td>\n",
              "      <td>297.417</td>\n",
              "      <td>-0.002489</td>\n",
              "      <td>-0.001031</td>\n",
              "      <td>-0.000989</td>\n",
              "      <td>-3.445890e-08</td>\n",
              "      <td>0.173221</td>\n",
              "      <td>0.650001</td>\n",
              "      <td>...</td>\n",
              "      <td>0.346542</td>\n",
              "      <td>0.335724</td>\n",
              "      <td>0.264359</td>\n",
              "      <td>0.300018</td>\n",
              "      <td>-8.61768</td>\n",
              "      <td>68.24536</td>\n",
              "      <td>1_2019</td>\n",
              "      <td>-8.61768_68.24536</td>\n",
              "      <td>1_2019_-8.61768_68.24536</td>\n",
              "      <td>1_2019_-8.61768_68.24536</td>\n",
              "    </tr>\n",
              "    <tr>\n",
              "      <th>1</th>\n",
              "      <td>-1.408560</td>\n",
              "      <td>-0.662555</td>\n",
              "      <td>292.943</td>\n",
              "      <td>297.978</td>\n",
              "      <td>-0.002556</td>\n",
              "      <td>-0.001076</td>\n",
              "      <td>-0.000734</td>\n",
              "      <td>-3.818420e-08</td>\n",
              "      <td>0.173808</td>\n",
              "      <td>0.650001</td>\n",
              "      <td>...</td>\n",
              "      <td>0.254517</td>\n",
              "      <td>0.259918</td>\n",
              "      <td>0.281769</td>\n",
              "      <td>0.296188</td>\n",
              "      <td>-8.61768</td>\n",
              "      <td>68.24536</td>\n",
              "      <td>2_2019</td>\n",
              "      <td>-8.61768_68.24536</td>\n",
              "      <td>2_2019_-8.61768_68.24536</td>\n",
              "      <td>2_2019_-8.61768_68.24536</td>\n",
              "    </tr>\n",
              "    <tr>\n",
              "      <th>2</th>\n",
              "      <td>-0.892110</td>\n",
              "      <td>-0.449448</td>\n",
              "      <td>293.250</td>\n",
              "      <td>297.989</td>\n",
              "      <td>-0.002535</td>\n",
              "      <td>-0.000980</td>\n",
              "      <td>-0.000713</td>\n",
              "      <td>-3.678720e-08</td>\n",
              "      <td>0.178823</td>\n",
              "      <td>0.650001</td>\n",
              "      <td>...</td>\n",
              "      <td>0.278152</td>\n",
              "      <td>0.284195</td>\n",
              "      <td>0.261597</td>\n",
              "      <td>0.291672</td>\n",
              "      <td>-8.61768</td>\n",
              "      <td>68.24536</td>\n",
              "      <td>3_2019</td>\n",
              "      <td>-8.61768_68.24536</td>\n",
              "      <td>3_2019_-8.61768_68.24536</td>\n",
              "      <td>3_2019_-8.61768_68.24536</td>\n",
              "    </tr>\n",
              "    <tr>\n",
              "      <th>3</th>\n",
              "      <td>-0.392348</td>\n",
              "      <td>0.384925</td>\n",
              "      <td>293.934</td>\n",
              "      <td>296.542</td>\n",
              "      <td>-0.001748</td>\n",
              "      <td>-0.000658</td>\n",
              "      <td>-0.001343</td>\n",
              "      <td>-2.700840e-08</td>\n",
              "      <td>0.180959</td>\n",
              "      <td>0.650017</td>\n",
              "      <td>...</td>\n",
              "      <td>0.385513</td>\n",
              "      <td>0.378616</td>\n",
              "      <td>0.309784</td>\n",
              "      <td>0.288925</td>\n",
              "      <td>-8.61768</td>\n",
              "      <td>68.24536</td>\n",
              "      <td>4_2019</td>\n",
              "      <td>-8.61768_68.24536</td>\n",
              "      <td>4_2019_-8.61768_68.24536</td>\n",
              "      <td>4_2019_-8.61768_68.24536</td>\n",
              "    </tr>\n",
              "    <tr>\n",
              "      <th>4</th>\n",
              "      <td>-0.447104</td>\n",
              "      <td>0.581028</td>\n",
              "      <td>292.571</td>\n",
              "      <td>294.726</td>\n",
              "      <td>-0.001374</td>\n",
              "      <td>-0.000462</td>\n",
              "      <td>-0.001139</td>\n",
              "      <td>-2.048910e-08</td>\n",
              "      <td>0.182375</td>\n",
              "      <td>0.650009</td>\n",
              "      <td>...</td>\n",
              "      <td>0.397659</td>\n",
              "      <td>0.400055</td>\n",
              "      <td>0.392654</td>\n",
              "      <td>0.309311</td>\n",
              "      <td>-8.61768</td>\n",
              "      <td>68.24536</td>\n",
              "      <td>5_2019</td>\n",
              "      <td>-8.61768_68.24536</td>\n",
              "      <td>5_2019_-8.61768_68.24536</td>\n",
              "      <td>5_2019_-8.61768_68.24536</td>\n",
              "    </tr>\n",
              "  </tbody>\n",
              "</table>\n",
              "<p>5 rows × 42 columns</p>\n",
              "</div>"
            ],
            "text/plain": [
              "   toilet_10u  toilet_10v  toilet_2d  toilet_2t  toilet_evabs  toilet_evaow  \\\n",
              "0   -1.006850   -0.714544    293.502    297.417     -0.002489     -0.001031   \n",
              "1   -1.408560   -0.662555    292.943    297.978     -0.002556     -0.001076   \n",
              "2   -0.892110   -0.449448    293.250    297.989     -0.002535     -0.000980   \n",
              "3   -0.392348    0.384925    293.934    296.542     -0.001748     -0.000658   \n",
              "4   -0.447104    0.581028    292.571    294.726     -0.001374     -0.000462   \n",
              "\n",
              "   toilet_evatc  toilet_evavt  toilet_albedo  toilet_lshf  ...  toilet_swvl1  \\\n",
              "0     -0.000989 -3.445890e-08       0.173221     0.650001  ...      0.346542   \n",
              "1     -0.000734 -3.818420e-08       0.173808     0.650001  ...      0.254517   \n",
              "2     -0.000713 -3.678720e-08       0.178823     0.650001  ...      0.278152   \n",
              "3     -0.001343 -2.700840e-08       0.180959     0.650017  ...      0.385513   \n",
              "4     -0.001139 -2.048910e-08       0.182375     0.650009  ...      0.397659   \n",
              "\n",
              "   toilet_swvl2  toilet_swvl3  toilet_swvl4  toilet_Transformed_Latitude  \\\n",
              "0      0.335724      0.264359      0.300018                     -8.61768   \n",
              "1      0.259918      0.281769      0.296188                     -8.61768   \n",
              "2      0.284195      0.261597      0.291672                     -8.61768   \n",
              "3      0.378616      0.309784      0.288925                     -8.61768   \n",
              "4      0.400055      0.392654      0.309311                     -8.61768   \n",
              "\n",
              "   toilet_Transformed_Longitude  toilet_Month_Year            lat_lon  \\\n",
              "0                      68.24536             1_2019  -8.61768_68.24536   \n",
              "1                      68.24536             2_2019  -8.61768_68.24536   \n",
              "2                      68.24536             3_2019  -8.61768_68.24536   \n",
              "3                      68.24536             4_2019  -8.61768_68.24536   \n",
              "4                      68.24536             5_2019  -8.61768_68.24536   \n",
              "\n",
              "         Month_Year_lat_lon  toilet_Month_Year_lat_lon  \n",
              "0  1_2019_-8.61768_68.24536   1_2019_-8.61768_68.24536  \n",
              "1  2_2019_-8.61768_68.24536   2_2019_-8.61768_68.24536  \n",
              "2  3_2019_-8.61768_68.24536   3_2019_-8.61768_68.24536  \n",
              "3  4_2019_-8.61768_68.24536   4_2019_-8.61768_68.24536  \n",
              "4  5_2019_-8.61768_68.24536   5_2019_-8.61768_68.24536  \n",
              "\n",
              "[5 rows x 42 columns]"
            ]
          },
          "execution_count": 31,
          "metadata": {},
          "output_type": "execute_result"
        }
      ],
      "source": [
        "toilets.head()"
      ]
    },
    {
      "cell_type": "code",
      "execution_count": 32,
      "metadata": {},
      "outputs": [],
      "source": [
        "# Merge datasets with nearest locations\n",
        "merged_train_data = train.copy()\n",
        "merged_test_data = test.copy()\n",
        "datasets = [\n",
        "    (toilets, 'toilet', 'toilet_Month_Year_lat_lon'),\n",
        "    (waste_management, 'waste', 'waste_Month_Year_lat_lon'),\n",
        "    (water_sources, 'water', 'water_Month_Year_lat_lon'),\n",
        "]"
      ]
    },
    {
      "cell_type": "code",
      "execution_count": 33,
      "metadata": {},
      "outputs": [],
      "source": [
        "# Merge Train\n",
        "for df, prefix, id_col in datasets:\n",
        "    nearest_train = find_nearest(merged_train_data, df, f\"{prefix}_Transformed_Latitude\", f\"{prefix}_Transformed_Longitude\", id_col)\n",
        "    nearest_train_df = pd.DataFrame(list(nearest_train.items()), columns=['ID', id_col])\n",
        "    merged_train_data = merged_train_data.merge(nearest_train_df, on=\"ID\").merge(df, on=id_col)"
      ]
    },
    {
      "cell_type": "code",
      "execution_count": 34,
      "metadata": {},
      "outputs": [],
      "source": [
        "# Merge Test\n",
        "for df, prefix, id_col in datasets:\n",
        "    nearest_test = find_nearest(merged_test_data, df, f\"{prefix}_Transformed_Latitude\", f\"{prefix}_Transformed_Longitude\", id_col)\n",
        "    nearest_test_df = pd.DataFrame(list(nearest_test.items()), columns=['ID', id_col])\n",
        "    merged_test_data = merged_test_data.merge(nearest_test_df, on=\"ID\").merge(df, on=id_col)"
      ]
    },
    {
      "cell_type": "code",
      "execution_count": 35,
      "metadata": {},
      "outputs": [
        {
          "data": {
            "text/plain": [
              "(24376, 135)"
            ]
          },
          "execution_count": 35,
          "metadata": {},
          "output_type": "execute_result"
        }
      ],
      "source": [
        "merged_train_data.shape"
      ]
    },
    {
      "cell_type": "code",
      "execution_count": 36,
      "metadata": {},
      "outputs": [
        {
          "data": {
            "text/plain": [
              "(4956, 134)"
            ]
          },
          "execution_count": 36,
          "metadata": {},
          "output_type": "execute_result"
        }
      ],
      "source": [
        "merged_test_data.shape"
      ]
    },
    {
      "cell_type": "markdown",
      "metadata": {},
      "source": [
        "### Duplicates, Skewness and Outliers"
      ]
    },
    {
      "cell_type": "code",
      "execution_count": 37,
      "metadata": {},
      "outputs": [
        {
          "name": "stdout",
          "output_type": "stream",
          "text": [
            "7204\n"
          ]
        }
      ],
      "source": [
        "merged_duplicate_count = merged_train_data.duplicated().sum()\n",
        "print(merged_duplicate_count)"
      ]
    },
    {
      "cell_type": "code",
      "execution_count": 38,
      "metadata": {},
      "outputs": [],
      "source": [
        "merged_train_data_with_duplicates = merged_train_data.copy()"
      ]
    },
    {
      "cell_type": "code",
      "execution_count": 39,
      "metadata": {},
      "outputs": [],
      "source": [
        "# Log_Total before detecting outliers\n",
        "merged_train_data_with_duplicates[\"Log_Total\"] = np.log1p(merged_train_data_with_duplicates[\"Total\"])\n",
        "\n",
        "merged_train_data_with_duplicates[\"Z_Score_Total\"] = np.abs(zscore(merged_train_data_with_duplicates[\"Total\"]))\n",
        "merged_train_data_with_duplicates[\"Z_Score_Log_Total\"] = np.abs(zscore(merged_train_data_with_duplicates[\"Log_Total\"]))"
      ]
    },
    {
      "cell_type": "markdown",
      "metadata": {},
      "source": [
        "### Outlier Detection Before Removing Duplicates"
      ]
    },
    {
      "cell_type": "code",
      "execution_count": 40,
      "metadata": {},
      "outputs": [],
      "source": [
        "# Using IQR\n",
        "outliers_iqr_with_duplicates = merged_train_data_with_duplicates.loc[detect_outliers_iqr(merged_train_data_with_duplicates[\"Total\"])]\n",
        "outliers_iqr_log_with_duplicates = merged_train_data_with_duplicates.loc[detect_outliers_iqr(merged_train_data_with_duplicates[\"Log_Total\"])]\n",
        "\n",
        "\n",
        "# Using Z-score\n",
        "outliers_zscore_with_duplicates = merged_train_data_with_duplicates.loc[merged_train_data_with_duplicates[\"Z_Score_Total\"] > 3]\n",
        "outliers_zscore_log_with_duplicates = merged_train_data_with_duplicates.loc[merged_train_data_with_duplicates[\"Z_Score_Log_Total\"] > 3]\n"
      ]
    },
    {
      "cell_type": "markdown",
      "metadata": {},
      "source": [
        "### Removing Duplicates"
      ]
    },
    {
      "cell_type": "code",
      "execution_count": 41,
      "metadata": {},
      "outputs": [],
      "source": [
        "# Drop duplicate rows\n",
        "merged_train_data = merged_train_data.drop_duplicates()"
      ]
    },
    {
      "cell_type": "code",
      "execution_count": 42,
      "metadata": {},
      "outputs": [
        {
          "data": {
            "text/plain": [
              "(17172, 135)"
            ]
          },
          "execution_count": 42,
          "metadata": {},
          "output_type": "execute_result"
        }
      ],
      "source": [
        "merged_train_data.shape"
      ]
    },
    {
      "cell_type": "markdown",
      "metadata": {},
      "source": [
        "### Outlier Detection After Removing Duplicates"
      ]
    },
    {
      "cell_type": "code",
      "execution_count": 43,
      "metadata": {},
      "outputs": [],
      "source": [
        "# Log_Total after dropping duplicates\n",
        "merged_train_data[\"Log_Total\"] = np.log1p(merged_train_data[\"Total\"])\n",
        "\n",
        "merged_train_data[\"Z_Score_Total\"] = np.abs(zscore(merged_train_data[\"Total\"]))\n",
        "merged_train_data[\"Z_Score_Log_Total\"] = np.abs(zscore(merged_train_data[\"Log_Total\"]))"
      ]
    },
    {
      "cell_type": "code",
      "execution_count": 44,
      "metadata": {},
      "outputs": [],
      "source": [
        "# Detect outliers using IQR on Total and Log_Total after dropping duplicates\n",
        "outliers_iqr_no_duplicates = merged_train_data.loc[detect_outliers_iqr(merged_train_data[\"Total\"])]\n",
        "outliers_iqr_log_no_duplicates = merged_train_data.loc[detect_outliers_iqr(merged_train_data[\"Log_Total\"])]\n",
        "\n",
        "\n",
        "# Detect outliers using Z-score on Total and Log_Total after dropping duplicates\n",
        "outliers_zscore_no_duplicates = merged_train_data.loc[merged_train_data[\"Z_Score_Total\"] > 3]\n",
        "outliers_zscore_log_no_duplicates = merged_train_data.loc[merged_train_data[\"Z_Score_Log_Total\"] > 3]"
      ]
    },
    {
      "cell_type": "code",
      "execution_count": 45,
      "metadata": {},
      "outputs": [
        {
          "name": "stdout",
          "output_type": "stream",
          "text": [
            "Number of Outliers With and Without Duplicates in Total and Log_Total\n"
          ]
        },
        {
          "data": {
            "text/html": [
              "<div>\n",
              "<style scoped>\n",
              "    .dataframe tbody tr th:only-of-type {\n",
              "        vertical-align: middle;\n",
              "    }\n",
              "\n",
              "    .dataframe tbody tr th {\n",
              "        vertical-align: top;\n",
              "    }\n",
              "\n",
              "    .dataframe thead th {\n",
              "        text-align: right;\n",
              "    }\n",
              "</style>\n",
              "<table border=\"1\" class=\"dataframe\">\n",
              "  <thead>\n",
              "    <tr style=\"text-align: right;\">\n",
              "      <th></th>\n",
              "      <th>Method</th>\n",
              "      <th>Total_With_Duplicates</th>\n",
              "      <th>Total_No_Duplicates</th>\n",
              "      <th>Log_Total_With_Duplicates</th>\n",
              "      <th>Log_Total_No_Duplicates</th>\n",
              "    </tr>\n",
              "  </thead>\n",
              "  <tbody>\n",
              "    <tr>\n",
              "      <th>0</th>\n",
              "      <td>IQR</td>\n",
              "      <td>4733</td>\n",
              "      <td>2355</td>\n",
              "      <td>1901</td>\n",
              "      <td>41</td>\n",
              "    </tr>\n",
              "    <tr>\n",
              "      <th>1</th>\n",
              "      <td>Z-Score</td>\n",
              "      <td>455</td>\n",
              "      <td>315</td>\n",
              "      <td>208</td>\n",
              "      <td>58</td>\n",
              "    </tr>\n",
              "  </tbody>\n",
              "</table>\n",
              "</div>"
            ],
            "text/plain": [
              "    Method  Total_With_Duplicates  Total_No_Duplicates  \\\n",
              "0      IQR                   4733                 2355   \n",
              "1  Z-Score                    455                  315   \n",
              "\n",
              "   Log_Total_With_Duplicates  Log_Total_No_Duplicates  \n",
              "0                       1901                       41  \n",
              "1                        208                       58  "
            ]
          },
          "execution_count": 45,
          "metadata": {},
          "output_type": "execute_result"
        }
      ],
      "source": [
        "outlier_df = pd.DataFrame(\n",
        "    {\n",
        "        \"Method\": [\"IQR\", \"Z-Score\"],\n",
        "        \"Total_With_Duplicates\": [outliers_iqr_with_duplicates.shape[0], outliers_zscore_with_duplicates.shape[0]],\n",
        "        \"Total_No_Duplicates\": [outliers_iqr_no_duplicates.shape[0], outliers_zscore_no_duplicates.shape[0]],\n",
        "        \"Log_Total_With_Duplicates\": [outliers_iqr_log_with_duplicates.shape[0], outliers_zscore_log_with_duplicates.shape[0]],\n",
        "        \"Log_Total_No_Duplicates\": [outliers_iqr_log_no_duplicates.shape[0], outliers_zscore_log_no_duplicates.shape[0]]\n",
        "    }\n",
        ")\n",
        "\n",
        "\n",
        "print(\"Number of Outliers With and Without Duplicates in Total and Log_Total\")\n",
        "\n",
        "outlier_df"
      ]
    },
    {
      "cell_type": "markdown",
      "metadata": {},
      "source": [
        "### Train Data Set (Review)"
      ]
    },
    {
      "cell_type": "code",
      "execution_count": 46,
      "metadata": {},
      "outputs": [
        {
          "data": {
            "text/html": [
              "<div>\n",
              "<style scoped>\n",
              "    .dataframe tbody tr th:only-of-type {\n",
              "        vertical-align: middle;\n",
              "    }\n",
              "\n",
              "    .dataframe tbody tr th {\n",
              "        vertical-align: top;\n",
              "    }\n",
              "\n",
              "    .dataframe thead th {\n",
              "        text-align: right;\n",
              "    }\n",
              "</style>\n",
              "<table border=\"1\" class=\"dataframe\">\n",
              "  <thead>\n",
              "    <tr style=\"text-align: right;\">\n",
              "      <th></th>\n",
              "      <th>ID</th>\n",
              "      <th>Total</th>\n",
              "      <th>Location</th>\n",
              "      <th>Category_Health_Facility_UUID</th>\n",
              "      <th>Disease</th>\n",
              "      <th>Month</th>\n",
              "      <th>Year</th>\n",
              "      <th>Transformed_Latitude</th>\n",
              "      <th>Transformed_Longitude</th>\n",
              "      <th>toilet_Month_Year_lat_lon</th>\n",
              "      <th>...</th>\n",
              "      <th>water_swvl3</th>\n",
              "      <th>water_swvl4</th>\n",
              "      <th>water_Transformed_Latitude</th>\n",
              "      <th>water_Transformed_Longitude</th>\n",
              "      <th>water_Month_Year</th>\n",
              "      <th>lat_lon</th>\n",
              "      <th>Month_Year_lat_lon</th>\n",
              "      <th>Log_Total</th>\n",
              "      <th>Z_Score_Total</th>\n",
              "      <th>Z_Score_Log_Total</th>\n",
              "    </tr>\n",
              "  </thead>\n",
              "  <tbody>\n",
              "    <tr>\n",
              "      <th>0</th>\n",
              "      <td>ID_3a11929e-3317-476d-99f7-1bd9fb58f018_12_202...</td>\n",
              "      <td>0.0</td>\n",
              "      <td>ID_3a11929e-3317-476d-99f7-1bd9fb58f018</td>\n",
              "      <td>a9280aca-c872-46f5-ada7-4a7cc31cf6ec</td>\n",
              "      <td>Dysentery</td>\n",
              "      <td>12</td>\n",
              "      <td>2022</td>\n",
              "      <td>-8.62982</td>\n",
              "      <td>68.23267</td>\n",
              "      <td>4_2020_-8.62979_68.23582</td>\n",
              "      <td>...</td>\n",
              "      <td>0.281708</td>\n",
              "      <td>0.24585</td>\n",
              "      <td>-8.62966</td>\n",
              "      <td>68.23589</td>\n",
              "      <td>12_2023</td>\n",
              "      <td>-8.62966_68.23589</td>\n",
              "      <td>12_2023_-8.62966_68.23589</td>\n",
              "      <td>0.00000</td>\n",
              "      <td>0.354932</td>\n",
              "      <td>0.724124</td>\n",
              "    </tr>\n",
              "    <tr>\n",
              "      <th>1</th>\n",
              "      <td>ID_3a11929e-3317-476d-99f7-1bd9fb58f018_12_202...</td>\n",
              "      <td>0.0</td>\n",
              "      <td>ID_3a11929e-3317-476d-99f7-1bd9fb58f018</td>\n",
              "      <td>a9280aca-c872-46f5-ada7-4a7cc31cf6ec</td>\n",
              "      <td>Typhoid</td>\n",
              "      <td>12</td>\n",
              "      <td>2022</td>\n",
              "      <td>-8.62982</td>\n",
              "      <td>68.23267</td>\n",
              "      <td>4_2020_-8.62979_68.23582</td>\n",
              "      <td>...</td>\n",
              "      <td>0.281708</td>\n",
              "      <td>0.24585</td>\n",
              "      <td>-8.62966</td>\n",
              "      <td>68.23589</td>\n",
              "      <td>12_2023</td>\n",
              "      <td>-8.62966_68.23589</td>\n",
              "      <td>12_2023_-8.62966_68.23589</td>\n",
              "      <td>0.00000</td>\n",
              "      <td>0.354932</td>\n",
              "      <td>0.724124</td>\n",
              "    </tr>\n",
              "    <tr>\n",
              "      <th>2</th>\n",
              "      <td>ID_3a11929e-3317-476d-99f7-1bd9fb58f018_12_202...</td>\n",
              "      <td>0.0</td>\n",
              "      <td>ID_3a11929e-3317-476d-99f7-1bd9fb58f018</td>\n",
              "      <td>a9280aca-c872-46f5-ada7-4a7cc31cf6ec</td>\n",
              "      <td>Diarrhea</td>\n",
              "      <td>12</td>\n",
              "      <td>2022</td>\n",
              "      <td>-8.62982</td>\n",
              "      <td>68.23267</td>\n",
              "      <td>4_2020_-8.62979_68.23582</td>\n",
              "      <td>...</td>\n",
              "      <td>0.281708</td>\n",
              "      <td>0.24585</td>\n",
              "      <td>-8.62966</td>\n",
              "      <td>68.23589</td>\n",
              "      <td>12_2023</td>\n",
              "      <td>-8.62966_68.23589</td>\n",
              "      <td>12_2023_-8.62966_68.23589</td>\n",
              "      <td>0.00000</td>\n",
              "      <td>0.354932</td>\n",
              "      <td>0.724124</td>\n",
              "    </tr>\n",
              "    <tr>\n",
              "      <th>5</th>\n",
              "      <td>ID_3a11929e-3317-476d-99f7-1bd9fb58f018_12_202...</td>\n",
              "      <td>0.0</td>\n",
              "      <td>ID_3a11929e-3317-476d-99f7-1bd9fb58f018</td>\n",
              "      <td>a9280aca-c872-46f5-ada7-4a7cc31cf6ec</td>\n",
              "      <td>Schistosomiasis</td>\n",
              "      <td>12</td>\n",
              "      <td>2022</td>\n",
              "      <td>-8.62982</td>\n",
              "      <td>68.23267</td>\n",
              "      <td>4_2020_-8.62979_68.23582</td>\n",
              "      <td>...</td>\n",
              "      <td>0.281708</td>\n",
              "      <td>0.24585</td>\n",
              "      <td>-8.62966</td>\n",
              "      <td>68.23589</td>\n",
              "      <td>12_2023</td>\n",
              "      <td>-8.62966_68.23589</td>\n",
              "      <td>12_2023_-8.62966_68.23589</td>\n",
              "      <td>0.00000</td>\n",
              "      <td>0.354932</td>\n",
              "      <td>0.724124</td>\n",
              "    </tr>\n",
              "    <tr>\n",
              "      <th>6</th>\n",
              "      <td>ID_3a11929e-3317-476d-99f7-1bd9fb58f018_12_202...</td>\n",
              "      <td>6.0</td>\n",
              "      <td>ID_3a11929e-3317-476d-99f7-1bd9fb58f018</td>\n",
              "      <td>a9280aca-c872-46f5-ada7-4a7cc31cf6ec</td>\n",
              "      <td>Malaria</td>\n",
              "      <td>12</td>\n",
              "      <td>2022</td>\n",
              "      <td>-8.62982</td>\n",
              "      <td>68.23267</td>\n",
              "      <td>4_2020_-8.62979_68.23582</td>\n",
              "      <td>...</td>\n",
              "      <td>0.281708</td>\n",
              "      <td>0.24585</td>\n",
              "      <td>-8.62966</td>\n",
              "      <td>68.23589</td>\n",
              "      <td>12_2023</td>\n",
              "      <td>-8.62966_68.23589</td>\n",
              "      <td>12_2023_-8.62966_68.23589</td>\n",
              "      <td>1.94591</td>\n",
              "      <td>0.170384</td>\n",
              "      <td>0.568363</td>\n",
              "    </tr>\n",
              "  </tbody>\n",
              "</table>\n",
              "<p>5 rows × 138 columns</p>\n",
              "</div>"
            ],
            "text/plain": [
              "                                                  ID  Total  \\\n",
              "0  ID_3a11929e-3317-476d-99f7-1bd9fb58f018_12_202...    0.0   \n",
              "1  ID_3a11929e-3317-476d-99f7-1bd9fb58f018_12_202...    0.0   \n",
              "2  ID_3a11929e-3317-476d-99f7-1bd9fb58f018_12_202...    0.0   \n",
              "5  ID_3a11929e-3317-476d-99f7-1bd9fb58f018_12_202...    0.0   \n",
              "6  ID_3a11929e-3317-476d-99f7-1bd9fb58f018_12_202...    6.0   \n",
              "\n",
              "                                  Location  \\\n",
              "0  ID_3a11929e-3317-476d-99f7-1bd9fb58f018   \n",
              "1  ID_3a11929e-3317-476d-99f7-1bd9fb58f018   \n",
              "2  ID_3a11929e-3317-476d-99f7-1bd9fb58f018   \n",
              "5  ID_3a11929e-3317-476d-99f7-1bd9fb58f018   \n",
              "6  ID_3a11929e-3317-476d-99f7-1bd9fb58f018   \n",
              "\n",
              "          Category_Health_Facility_UUID          Disease  Month  Year  \\\n",
              "0  a9280aca-c872-46f5-ada7-4a7cc31cf6ec        Dysentery     12  2022   \n",
              "1  a9280aca-c872-46f5-ada7-4a7cc31cf6ec          Typhoid     12  2022   \n",
              "2  a9280aca-c872-46f5-ada7-4a7cc31cf6ec         Diarrhea     12  2022   \n",
              "5  a9280aca-c872-46f5-ada7-4a7cc31cf6ec  Schistosomiasis     12  2022   \n",
              "6  a9280aca-c872-46f5-ada7-4a7cc31cf6ec          Malaria     12  2022   \n",
              "\n",
              "   Transformed_Latitude  Transformed_Longitude toilet_Month_Year_lat_lon  ...  \\\n",
              "0              -8.62982               68.23267  4_2020_-8.62979_68.23582  ...   \n",
              "1              -8.62982               68.23267  4_2020_-8.62979_68.23582  ...   \n",
              "2              -8.62982               68.23267  4_2020_-8.62979_68.23582  ...   \n",
              "5              -8.62982               68.23267  4_2020_-8.62979_68.23582  ...   \n",
              "6              -8.62982               68.23267  4_2020_-8.62979_68.23582  ...   \n",
              "\n",
              "   water_swvl3  water_swvl4  water_Transformed_Latitude  \\\n",
              "0     0.281708      0.24585                    -8.62966   \n",
              "1     0.281708      0.24585                    -8.62966   \n",
              "2     0.281708      0.24585                    -8.62966   \n",
              "5     0.281708      0.24585                    -8.62966   \n",
              "6     0.281708      0.24585                    -8.62966   \n",
              "\n",
              "   water_Transformed_Longitude  water_Month_Year            lat_lon  \\\n",
              "0                     68.23589           12_2023  -8.62966_68.23589   \n",
              "1                     68.23589           12_2023  -8.62966_68.23589   \n",
              "2                     68.23589           12_2023  -8.62966_68.23589   \n",
              "5                     68.23589           12_2023  -8.62966_68.23589   \n",
              "6                     68.23589           12_2023  -8.62966_68.23589   \n",
              "\n",
              "          Month_Year_lat_lon  Log_Total  Z_Score_Total  Z_Score_Log_Total  \n",
              "0  12_2023_-8.62966_68.23589    0.00000       0.354932           0.724124  \n",
              "1  12_2023_-8.62966_68.23589    0.00000       0.354932           0.724124  \n",
              "2  12_2023_-8.62966_68.23589    0.00000       0.354932           0.724124  \n",
              "5  12_2023_-8.62966_68.23589    0.00000       0.354932           0.724124  \n",
              "6  12_2023_-8.62966_68.23589    1.94591       0.170384           0.568363  \n",
              "\n",
              "[5 rows x 138 columns]"
            ]
          },
          "execution_count": 46,
          "metadata": {},
          "output_type": "execute_result"
        }
      ],
      "source": [
        "merged_train_data.head()"
      ]
    },
    {
      "cell_type": "code",
      "execution_count": 47,
      "metadata": {},
      "outputs": [],
      "source": [
        "# train = train.drop([\"Z_Score_Total\",\"Z_Score_Log_Total\"], axis=1)\n",
        "# train.head()"
      ]
    },
    {
      "cell_type": "markdown",
      "metadata": {},
      "source": [
        "### Impute Outliers with Median"
      ]
    },
    {
      "cell_type": "code",
      "execution_count": 50,
      "metadata": {},
      "outputs": [],
      "source": [
        "# train_less_outliers = merged_train_data.copy()"
      ]
    },
    {
      "cell_type": "code",
      "execution_count": null,
      "metadata": {},
      "outputs": [],
      "source": [
        "# sys.exit(\"Execution stopped here!\")"
      ]
    },
    {
      "cell_type": "code",
      "execution_count": 48,
      "metadata": {},
      "outputs": [],
      "source": [
        "# # Impute IQR outliers with median\n",
        "# for col in [\"Total\", \"Log_Total\"]:\n",
        "#     median_value = train_less_outliers[col].median()\n",
        "#     train_less_outliers.loc[detect_outliers_iqr(train_less_outliers[col]), col] = median_value\n",
        "\n",
        "# # Impute Z-score outliers with median\n",
        "# for col in [\"Total\", \"Log_Total\"]:\n",
        "#     median_value = train_less_outliers[col].median()\n",
        "#     train_less_outliers.loc[train_less_outliers[f\"Z_Score_{col}\"] > 3, col] = median_value\n"
      ]
    },
    {
      "cell_type": "code",
      "execution_count": null,
      "metadata": {},
      "outputs": [],
      "source": [
        "# # Step 1: Detect Outliers Again After Imputation\n",
        "# outliers_iqr_after = {\n",
        "#     \"Total\": len(detect_outliers_iqr(train_less_outliers[\"Total\"])),\n",
        "#     \"Log_Total\": len(detect_outliers_iqr(train_less_outliers[\"Log_Total\"]))\n",
        "# }\n",
        "\n",
        "# outliers_zscore_after = {\n",
        "#     \"Total\": (train_less_outliers[\"Z_Score_Total\"] > 3).sum(),\n",
        "#     \"Log_Total\": (train_less_outliers[\"Z_Score_Log_Total\"] > 3).sum()\n",
        "# }\n",
        "\n",
        "# # Step 2: Create DataFrame to Compare Outliers Before and After Imputation\n",
        "# outliers_after_df = pd.DataFrame(\n",
        "#     {\n",
        "#         \"Method\": [\"IQR\", \"Z-Score\"],\n",
        "#         \"Total_After_Imputation\": [outliers_iqr_after[\"Total\"], outliers_zscore_after[\"Total\"]],\n",
        "#         \"Log_Total_After_Imputation\": [outliers_iqr_after[\"Log_Total\"], outliers_zscore_after[\"Log_Total\"]]\n",
        "#     }\n",
        "# )\n",
        "\n",
        "# # Step 3: Print Results\n",
        "# print(\"Outliers Remaining After Imputation:\")\n",
        "# print(outliers_after_df)\n"
      ]
    },
    {
      "cell_type": "code",
      "execution_count": null,
      "metadata": {},
      "outputs": [],
      "source": []
    },
    {
      "cell_type": "markdown",
      "metadata": {
        "id": "5ZB6-U9UnhC_"
      },
      "source": [
        "## Start modeling"
      ]
    },
    {
      "cell_type": "markdown",
      "metadata": {
        "id": "T1GslRNGqOXE"
      },
      "source": [
        "#### Make predictions on test"
      ]
    }
  ],
  "metadata": {
    "colab": {
      "provenance": []
    },
    "kernelspec": {
      "display_name": "zindienv",
      "language": "python",
      "name": "python3"
    },
    "language_info": {
      "codemirror_mode": {
        "name": "ipython",
        "version": 3
      },
      "file_extension": ".py",
      "mimetype": "text/x-python",
      "name": "python",
      "nbconvert_exporter": "python",
      "pygments_lexer": "ipython3",
      "version": "3.12.3"
    }
  },
  "nbformat": 4,
  "nbformat_minor": 0
}
