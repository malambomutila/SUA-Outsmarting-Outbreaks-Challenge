{
  "cells": [
    {
      "cell_type": "code",
      "execution_count": 1,
      "metadata": {
        "id": "eoOtsnpOmSMO"
      },
      "outputs": [],
      "source": [
        "# Import necessary libraries\n",
        "import logging\n",
        "import pandas as pd\n",
        "import numpy as np\n",
        "\n",
        "import matplotlib.pyplot as plt\n",
        "import seaborn as sns\n",
        "\n",
        "from scipy.spatial import cKDTree\n",
        "from scipy.stats import zscore\n",
        "\n",
        "from sklearn.model_selection import train_test_split\n",
        "from sklearn.ensemble import RandomForestRegressor\n",
        "from sklearn.preprocessing import LabelEncoder\n",
        "from sklearn.metrics import mean_absolute_error\n",
        "\n",
        "from pathlib import Path"
      ]
    },
    {
      "cell_type": "code",
      "execution_count": 2,
      "metadata": {},
      "outputs": [],
      "source": [
        "# Setup logging\n",
        "logging.basicConfig(level=logging.INFO)\n",
        "logger = logging.getLogger(__name__)"
      ]
    },
    {
      "cell_type": "code",
      "execution_count": 3,
      "metadata": {},
      "outputs": [],
      "source": [
        "# Set Base Directory\n",
        "base_dir = Path.cwd().parent  # Moves one level up from current working directory\n",
        "\n",
        "# Data Directory\n",
        "data_dir = base_dir / '02_Data'"
      ]
    },
    {
      "cell_type": "code",
      "execution_count": 4,
      "metadata": {
        "id": "77s3XlNnm1Ic"
      },
      "outputs": [],
      "source": [
        "# Load datasets\n",
        "train = pd.read_csv(data_dir / \"Train.csv\")\n",
        "test = pd.read_csv(data_dir / \"Test.csv\")\n",
        "toilets = pd.read_csv(data_dir / \"toilets.csv\")\n",
        "waste_management = pd.read_csv(data_dir / \"waste_management.csv\")\n",
        "water_sources = pd.read_csv(data_dir / \"water_sources.csv\")"
      ]
    },
    {
      "cell_type": "markdown",
      "metadata": {},
      "source": [
        "# EDA"
      ]
    },
    {
      "cell_type": "markdown",
      "metadata": {},
      "source": [
        "### Non-null counts and Dtypes"
      ]
    },
    {
      "cell_type": "code",
      "execution_count": 5,
      "metadata": {},
      "outputs": [
        {
          "name": "stdout",
          "output_type": "stream",
          "text": [
            "Train Data Info\n",
            "\n",
            "<class 'pandas.core.frame.DataFrame'>\n",
            "RangeIndex: 23848 entries, 0 to 23847\n",
            "Data columns (total 9 columns):\n",
            " #   Column                         Non-Null Count  Dtype  \n",
            "---  ------                         --------------  -----  \n",
            " 0   ID                             23848 non-null  object \n",
            " 1   Total                          23847 non-null  float64\n",
            " 2   Location                       23848 non-null  object \n",
            " 3   Category_Health_Facility_UUID  23848 non-null  object \n",
            " 4   Disease                        23848 non-null  object \n",
            " 5   Month                          23848 non-null  int64  \n",
            " 6   Year                           23848 non-null  int64  \n",
            " 7   Transformed_Latitude           23848 non-null  float64\n",
            " 8   Transformed_Longitude          23848 non-null  float64\n",
            "dtypes: float64(3), int64(2), object(4)\n",
            "memory usage: 1.6+ MB\n"
          ]
        }
      ],
      "source": [
        "print(\"Train Data Info\\n\")\n",
        "train.info()"
      ]
    },
    {
      "cell_type": "code",
      "execution_count": 6,
      "metadata": {},
      "outputs": [
        {
          "name": "stdout",
          "output_type": "stream",
          "text": [
            "Test Data Info\n",
            "\n",
            "<class 'pandas.core.frame.DataFrame'>\n",
            "RangeIndex: 4872 entries, 0 to 4871\n",
            "Data columns (total 8 columns):\n",
            " #   Column                         Non-Null Count  Dtype  \n",
            "---  ------                         --------------  -----  \n",
            " 0   Location                       4872 non-null   object \n",
            " 1   Disease                        4872 non-null   object \n",
            " 2   Month                          4872 non-null   int64  \n",
            " 3   Category_Health_Facility_UUID  4872 non-null   object \n",
            " 4   Year                           4872 non-null   int64  \n",
            " 5   Transformed_Latitude           4872 non-null   float64\n",
            " 6   Transformed_Longitude          4872 non-null   float64\n",
            " 7   ID                             4872 non-null   object \n",
            "dtypes: float64(2), int64(2), object(4)\n",
            "memory usage: 304.6+ KB\n"
          ]
        }
      ],
      "source": [
        "print(\"Test Data Info\\n\")\n",
        "test.info()"
      ]
    },
    {
      "cell_type": "markdown",
      "metadata": {},
      "source": [
        "### Number of Missing Values"
      ]
    },
    {
      "cell_type": "code",
      "execution_count": 7,
      "metadata": {},
      "outputs": [
        {
          "name": "stdout",
          "output_type": "stream",
          "text": [
            "Train Data - Number of Missing Values\n",
            "\n"
          ]
        },
        {
          "data": {
            "text/plain": [
              "ID                               0\n",
              "Total                            1\n",
              "Location                         0\n",
              "Category_Health_Facility_UUID    0\n",
              "Disease                          0\n",
              "Month                            0\n",
              "Year                             0\n",
              "Transformed_Latitude             0\n",
              "Transformed_Longitude            0\n",
              "dtype: int64"
            ]
          },
          "execution_count": 7,
          "metadata": {},
          "output_type": "execute_result"
        }
      ],
      "source": [
        "print(\"Train Data - Number of Missing Values\\n\")\n",
        "train.isnull().sum()"
      ]
    },
    {
      "cell_type": "code",
      "execution_count": 8,
      "metadata": {},
      "outputs": [
        {
          "name": "stdout",
          "output_type": "stream",
          "text": [
            "Test Data - Number of Missing Values\n",
            "\n"
          ]
        },
        {
          "data": {
            "text/plain": [
              "Location                         0\n",
              "Disease                          0\n",
              "Month                            0\n",
              "Category_Health_Facility_UUID    0\n",
              "Year                             0\n",
              "Transformed_Latitude             0\n",
              "Transformed_Longitude            0\n",
              "ID                               0\n",
              "dtype: int64"
            ]
          },
          "execution_count": 8,
          "metadata": {},
          "output_type": "execute_result"
        }
      ],
      "source": [
        "print(\"Test Data - Number of Missing Values\\n\")\n",
        "test.isnull().sum()"
      ]
    },
    {
      "cell_type": "markdown",
      "metadata": {},
      "source": [
        "### Duplicates"
      ]
    },
    {
      "cell_type": "code",
      "execution_count": 9,
      "metadata": {},
      "outputs": [
        {
          "name": "stdout",
          "output_type": "stream",
          "text": [
            "6675\n"
          ]
        }
      ],
      "source": [
        "duplicate_count = train.duplicated().sum()\n",
        "print(duplicate_count)"
      ]
    },
    {
      "cell_type": "code",
      "execution_count": null,
      "metadata": {},
      "outputs": [],
      "source": []
    },
    {
      "cell_type": "markdown",
      "metadata": {},
      "source": [
        "### Outliers"
      ]
    },
    {
      "cell_type": "code",
      "execution_count": 10,
      "metadata": {},
      "outputs": [
        {
          "data": {
            "image/png": "[encoded data removed]",
            "text/plain": [
              "<Figure size 1200x600 with 1 Axes>"
            ]
          },
          "metadata": {},
          "output_type": "display_data"
        },
        {
          "data": {
            "image/png": "[encoded data removed]",
            "text/plain": [
              "<Figure size 1200x600 with 1 Axes>"
            ]
          },
          "metadata": {},
          "output_type": "display_data"
        }
      ],
      "source": [
        "# Function to plot boxplots for numerical features\n",
        "def plot_boxplots(df, title):\n",
        "    plt.figure(figsize=(12, 6))\n",
        "    sns.boxplot(data=df.select_dtypes(include=['number']))\n",
        "    plt.xticks(rotation=45)\n",
        "    plt.title(title)\n",
        "    plt.show()\n",
        "\n",
        "# Boxplots\n",
        "plot_boxplots(train, \"Boxplot of Numerical Features (Train Dataset)\")\n",
        "plot_boxplots(test, \"Boxplot of Numerical Features (Test Dataset)\")\n"
      ]
    },
    {
      "cell_type": "markdown",
      "metadata": {},
      "source": [
        "### Outliers Using IQR"
      ]
    },
    {
      "cell_type": "code",
      "execution_count": 11,
      "metadata": {},
      "outputs": [],
      "source": [
        "def detect_outliers_iqr(data, multiplier=1.5):\n",
        "    \"\"\"Detects outliers in a given Pandas Series using the IQR method.\"\"\"\n",
        "    q1 = np.percentile(data.dropna(), 25)\n",
        "    q3 = np.percentile(data.dropna(), 75)\n",
        "    IQR = q3 - q1\n",
        "    lwr_bound = q1 - (1.5 * IQR)\n",
        "    upr_bound = q3 + (multiplier * IQR)\n",
        "\n",
        "    return data[(data < lwr_bound) | (data > upr_bound)].index"
      ]
    },
    {
      "cell_type": "markdown",
      "metadata": {},
      "source": [
        "#### Note: 4609 outliers out of 23,847. (19.3%)."
      ]
    },
    {
      "cell_type": "code",
      "execution_count": null,
      "metadata": {},
      "outputs": [],
      "source": []
    },
    {
      "cell_type": "markdown",
      "metadata": {},
      "source": [
        "### Summary Statistics"
      ]
    },
    {
      "cell_type": "code",
      "execution_count": 12,
      "metadata": {},
      "outputs": [
        {
          "name": "stdout",
          "output_type": "stream",
          "text": [
            "Train Data - Summary Stats\n",
            "\n"
          ]
        },
        {
          "data": {
            "text/html": [
              "<div>\n",
              "<style scoped>\n",
              "    .dataframe tbody tr th:only-of-type {\n",
              "        vertical-align: middle;\n",
              "    }\n",
              "\n",
              "    .dataframe tbody tr th {\n",
              "        vertical-align: top;\n",
              "    }\n",
              "\n",
              "    .dataframe thead th {\n",
              "        text-align: right;\n",
              "    }\n",
              "</style>\n",
              "<table border=\"1\" class=\"dataframe\">\n",
              "  <thead>\n",
              "    <tr style=\"text-align: right;\">\n",
              "      <th></th>\n",
              "      <th>Total</th>\n",
              "      <th>Month</th>\n",
              "      <th>Year</th>\n",
              "      <th>Transformed_Latitude</th>\n",
              "      <th>Transformed_Longitude</th>\n",
              "    </tr>\n",
              "  </thead>\n",
              "  <tbody>\n",
              "    <tr>\n",
              "      <th>count</th>\n",
              "      <td>23847.000000</td>\n",
              "      <td>23848.000000</td>\n",
              "      <td>23848.000000</td>\n",
              "      <td>23848.00000</td>\n",
              "      <td>23848.000000</td>\n",
              "    </tr>\n",
              "    <tr>\n",
              "      <th>mean</th>\n",
              "      <td>8.355600</td>\n",
              "      <td>6.568643</td>\n",
              "      <td>2020.610282</td>\n",
              "      <td>-8.61252</td>\n",
              "      <td>68.242682</td>\n",
              "    </tr>\n",
              "    <tr>\n",
              "      <th>std</th>\n",
              "      <td>28.076713</td>\n",
              "      <td>3.445577</td>\n",
              "      <td>1.133108</td>\n",
              "      <td>0.04251</td>\n",
              "      <td>0.029114</td>\n",
              "    </tr>\n",
              "    <tr>\n",
              "      <th>min</th>\n",
              "      <td>0.000000</td>\n",
              "      <td>1.000000</td>\n",
              "      <td>2019.000000</td>\n",
              "      <td>-8.71376</td>\n",
              "      <td>68.169720</td>\n",
              "    </tr>\n",
              "    <tr>\n",
              "      <th>25%</th>\n",
              "      <td>0.000000</td>\n",
              "      <td>4.000000</td>\n",
              "      <td>2020.000000</td>\n",
              "      <td>-8.62656</td>\n",
              "      <td>68.224740</td>\n",
              "    </tr>\n",
              "    <tr>\n",
              "      <th>50%</th>\n",
              "      <td>0.000000</td>\n",
              "      <td>7.000000</td>\n",
              "      <td>2021.000000</td>\n",
              "      <td>-8.61740</td>\n",
              "      <td>68.237620</td>\n",
              "    </tr>\n",
              "    <tr>\n",
              "      <th>75%</th>\n",
              "      <td>3.000000</td>\n",
              "      <td>10.000000</td>\n",
              "      <td>2022.000000</td>\n",
              "      <td>-8.59431</td>\n",
              "      <td>68.257640</td>\n",
              "    </tr>\n",
              "    <tr>\n",
              "      <th>max</th>\n",
              "      <td>489.000000</td>\n",
              "      <td>12.000000</td>\n",
              "      <td>2022.000000</td>\n",
              "      <td>-8.49681</td>\n",
              "      <td>68.328390</td>\n",
              "    </tr>\n",
              "  </tbody>\n",
              "</table>\n",
              "</div>"
            ],
            "text/plain": [
              "              Total         Month          Year  Transformed_Latitude  \\\n",
              "count  23847.000000  23848.000000  23848.000000           23848.00000   \n",
              "mean       8.355600      6.568643   2020.610282              -8.61252   \n",
              "std       28.076713      3.445577      1.133108               0.04251   \n",
              "min        0.000000      1.000000   2019.000000              -8.71376   \n",
              "25%        0.000000      4.000000   2020.000000              -8.62656   \n",
              "50%        0.000000      7.000000   2021.000000              -8.61740   \n",
              "75%        3.000000     10.000000   2022.000000              -8.59431   \n",
              "max      489.000000     12.000000   2022.000000              -8.49681   \n",
              "\n",
              "       Transformed_Longitude  \n",
              "count           23848.000000  \n",
              "mean               68.242682  \n",
              "std                 0.029114  \n",
              "min                68.169720  \n",
              "25%                68.224740  \n",
              "50%                68.237620  \n",
              "75%                68.257640  \n",
              "max                68.328390  "
            ]
          },
          "execution_count": 12,
          "metadata": {},
          "output_type": "execute_result"
        }
      ],
      "source": [
        "print(\"Train Data - Summary Stats\\n\")\n",
        "\n",
        "train.describe()"
      ]
    },
    {
      "cell_type": "code",
      "execution_count": 13,
      "metadata": {},
      "outputs": [
        {
          "name": "stdout",
          "output_type": "stream",
          "text": [
            "Test Data - Summary Stats\n",
            "\n"
          ]
        },
        {
          "data": {
            "text/html": [
              "<div>\n",
              "<style scoped>\n",
              "    .dataframe tbody tr th:only-of-type {\n",
              "        vertical-align: middle;\n",
              "    }\n",
              "\n",
              "    .dataframe tbody tr th {\n",
              "        vertical-align: top;\n",
              "    }\n",
              "\n",
              "    .dataframe thead th {\n",
              "        text-align: right;\n",
              "    }\n",
              "</style>\n",
              "<table border=\"1\" class=\"dataframe\">\n",
              "  <thead>\n",
              "    <tr style=\"text-align: right;\">\n",
              "      <th></th>\n",
              "      <th>Month</th>\n",
              "      <th>Year</th>\n",
              "      <th>Transformed_Latitude</th>\n",
              "      <th>Transformed_Longitude</th>\n",
              "    </tr>\n",
              "  </thead>\n",
              "  <tbody>\n",
              "    <tr>\n",
              "      <th>count</th>\n",
              "      <td>4872.000000</td>\n",
              "      <td>4872.0</td>\n",
              "      <td>4872.000000</td>\n",
              "      <td>4872.000000</td>\n",
              "    </tr>\n",
              "    <tr>\n",
              "      <th>mean</th>\n",
              "      <td>6.500000</td>\n",
              "      <td>2023.0</td>\n",
              "      <td>-8.609202</td>\n",
              "      <td>68.239384</td>\n",
              "    </tr>\n",
              "    <tr>\n",
              "      <th>std</th>\n",
              "      <td>3.452407</td>\n",
              "      <td>0.0</td>\n",
              "      <td>0.041923</td>\n",
              "      <td>0.028248</td>\n",
              "    </tr>\n",
              "    <tr>\n",
              "      <th>min</th>\n",
              "      <td>1.000000</td>\n",
              "      <td>2023.0</td>\n",
              "      <td>-8.713760</td>\n",
              "      <td>68.169720</td>\n",
              "    </tr>\n",
              "    <tr>\n",
              "      <th>25%</th>\n",
              "      <td>3.750000</td>\n",
              "      <td>2023.0</td>\n",
              "      <td>-8.626560</td>\n",
              "      <td>68.224400</td>\n",
              "    </tr>\n",
              "    <tr>\n",
              "      <th>50%</th>\n",
              "      <td>6.500000</td>\n",
              "      <td>2023.0</td>\n",
              "      <td>-8.617375</td>\n",
              "      <td>68.235815</td>\n",
              "    </tr>\n",
              "    <tr>\n",
              "      <th>75%</th>\n",
              "      <td>9.250000</td>\n",
              "      <td>2023.0</td>\n",
              "      <td>-8.591610</td>\n",
              "      <td>68.252550</td>\n",
              "    </tr>\n",
              "    <tr>\n",
              "      <th>max</th>\n",
              "      <td>12.000000</td>\n",
              "      <td>2023.0</td>\n",
              "      <td>-8.496810</td>\n",
              "      <td>68.328390</td>\n",
              "    </tr>\n",
              "  </tbody>\n",
              "</table>\n",
              "</div>"
            ],
            "text/plain": [
              "             Month    Year  Transformed_Latitude  Transformed_Longitude\n",
              "count  4872.000000  4872.0           4872.000000            4872.000000\n",
              "mean      6.500000  2023.0             -8.609202              68.239384\n",
              "std       3.452407     0.0              0.041923               0.028248\n",
              "min       1.000000  2023.0             -8.713760              68.169720\n",
              "25%       3.750000  2023.0             -8.626560              68.224400\n",
              "50%       6.500000  2023.0             -8.617375              68.235815\n",
              "75%       9.250000  2023.0             -8.591610              68.252550\n",
              "max      12.000000  2023.0             -8.496810              68.328390"
            ]
          },
          "execution_count": 13,
          "metadata": {},
          "output_type": "execute_result"
        }
      ],
      "source": [
        "print(\"Test Data - Summary Stats\\n\")\n",
        "\n",
        "test.describe()"
      ]
    },
    {
      "cell_type": "markdown",
      "metadata": {},
      "source": [
        "### Variable Distribution"
      ]
    },
    {
      "cell_type": "code",
      "execution_count": 14,
      "metadata": {},
      "outputs": [],
      "source": [
        "# # Plot target variable distribution\n",
        "# plt.figure(figsize=(10, 5))\n",
        "# sns.histplot(train['Total'], bins=30, kde=True)\n",
        "# plt.title(\"Distribution of Total Variable\")\n",
        "# plt.show()"
      ]
    },
    {
      "cell_type": "markdown",
      "metadata": {},
      "source": [
        "### Correlation in Train Data"
      ]
    },
    {
      "cell_type": "code",
      "execution_count": 15,
      "metadata": {},
      "outputs": [],
      "source": [
        "# # Select only numeric columns\n",
        "# numeric_cols = train.select_dtypes(include=['number'])\n",
        "\n",
        "# # Compute correlation only for numeric features\n",
        "# plt.figure(figsize=(12, 6))\n",
        "# sns.heatmap(numeric_cols.corr(), annot=True, cmap='coolwarm', fmt='.2f', linewidths=0.5)\n",
        "# plt.title(\"Feature Correlation Heatmap\")\n",
        "# plt.show()\n"
      ]
    },
    {
      "cell_type": "markdown",
      "metadata": {},
      "source": [
        "# Preprocessing"
      ]
    },
    {
      "cell_type": "markdown",
      "metadata": {},
      "source": [
        "### Missing Values"
      ]
    },
    {
      "cell_type": "code",
      "execution_count": 16,
      "metadata": {},
      "outputs": [
        {
          "data": {
            "text/plain": [
              "ID                               0\n",
              "Total                            0\n",
              "Location                         0\n",
              "Category_Health_Facility_UUID    0\n",
              "Disease                          0\n",
              "Month                            0\n",
              "Year                             0\n",
              "Transformed_Latitude             0\n",
              "Transformed_Longitude            0\n",
              "dtype: int64"
            ]
          },
          "execution_count": 16,
          "metadata": {},
          "output_type": "execute_result"
        }
      ],
      "source": [
        "# Imputing with Median\n",
        "train.loc[:, 'Total'] = train['Total'].fillna(train['Total'].median())\n",
        "\n",
        "# Number of Missing Values\n",
        "train.isnull().sum()"
      ]
    },
    {
      "cell_type": "markdown",
      "metadata": {},
      "source": [
        "### Duplicates, Skewness and Outliers"
      ]
    },
    {
      "cell_type": "code",
      "execution_count": 17,
      "metadata": {},
      "outputs": [],
      "source": [
        "train_with_duplicates = train.copy()"
      ]
    },
    {
      "cell_type": "code",
      "execution_count": 18,
      "metadata": {},
      "outputs": [],
      "source": [
        "# Log_Total before detecting outliers\n",
        "train_with_duplicates[\"Log_Total\"] = np.log1p(train_with_duplicates[\"Total\"])\n",
        "\n",
        "train_with_duplicates[\"Z_Score_Total\"] = np.abs(zscore(train_with_duplicates[\"Total\"]))\n",
        "train_with_duplicates[\"Z_Score_Log_Total\"] = np.abs(zscore(train_with_duplicates[\"Log_Total\"]))"
      ]
    },
    {
      "cell_type": "markdown",
      "metadata": {},
      "source": [
        "### Outlier Detection Before Removing Duplicates"
      ]
    },
    {
      "cell_type": "code",
      "execution_count": 19,
      "metadata": {},
      "outputs": [],
      "source": [
        "# Using IQR\n",
        "outliers_iqr_with_duplicates = train_with_duplicates.loc[detect_outliers_iqr(train_with_duplicates[\"Total\"])]\n",
        "outliers_iqr_log_with_duplicates = train_with_duplicates.loc[detect_outliers_iqr(train_with_duplicates[\"Log_Total\"])]\n",
        "\n",
        "\n",
        "# Using Z-score\n",
        "outliers_zscore_with_duplicates = train_with_duplicates.loc[train_with_duplicates[\"Z_Score_Total\"] > 3]\n",
        "outliers_zscore_log_with_duplicates = train_with_duplicates.loc[train_with_duplicates[\"Z_Score_Log_Total\"] > 3]\n"
      ]
    },
    {
      "cell_type": "markdown",
      "metadata": {},
      "source": [
        "### Removing Duplicates"
      ]
    },
    {
      "cell_type": "code",
      "execution_count": 20,
      "metadata": {},
      "outputs": [],
      "source": [
        "# Drop duplicate rows\n",
        "train = train.drop_duplicates()"
      ]
    },
    {
      "cell_type": "markdown",
      "metadata": {},
      "source": [
        "### Outlier Detection After Removing Duplicates"
      ]
    },
    {
      "cell_type": "code",
      "execution_count": 21,
      "metadata": {},
      "outputs": [],
      "source": [
        "# Log_Total after dropping duplicates\n",
        "train[\"Log_Total\"] = np.log1p(train[\"Total\"])\n",
        "\n",
        "train[\"Z_Score_Total\"] = np.abs(zscore(train[\"Total\"]))\n",
        "train[\"Z_Score_Log_Total\"] = np.abs(zscore(train[\"Log_Total\"]))"
      ]
    },
    {
      "cell_type": "code",
      "execution_count": 22,
      "metadata": {},
      "outputs": [],
      "source": [
        "# Detect outliers using IQR on Total and Log_Total after dropping duplicates\n",
        "outliers_iqr_no_duplicates = train.loc[detect_outliers_iqr(train[\"Total\"])]\n",
        "outliers_iqr_log_no_duplicates = train.loc[detect_outliers_iqr(train[\"Log_Total\"])]\n",
        "\n",
        "\n",
        "# Detect outliers using Z-score on Total and Log_Total after dropping duplicates\n",
        "outliers_zscore_no_duplicates = train.loc[train[\"Z_Score_Total\"] > 3]\n",
        "outliers_zscore_log_no_duplicates = train.loc[train[\"Z_Score_Log_Total\"] > 3]"
      ]
    },
    {
      "cell_type": "code",
      "execution_count": 23,
      "metadata": {},
      "outputs": [
        {
          "name": "stdout",
          "output_type": "stream",
          "text": [
            "Number of Outliers With and Without Duplicates in Total and Log_Total\n"
          ]
        },
        {
          "data": {
            "text/html": [
              "<div>\n",
              "<style scoped>\n",
              "    .dataframe tbody tr th:only-of-type {\n",
              "        vertical-align: middle;\n",
              "    }\n",
              "\n",
              "    .dataframe tbody tr th {\n",
              "        vertical-align: top;\n",
              "    }\n",
              "\n",
              "    .dataframe thead th {\n",
              "        text-align: right;\n",
              "    }\n",
              "</style>\n",
              "<table border=\"1\" class=\"dataframe\">\n",
              "  <thead>\n",
              "    <tr style=\"text-align: right;\">\n",
              "      <th></th>\n",
              "      <th>Method</th>\n",
              "      <th>Total_With_Duplicates</th>\n",
              "      <th>Total_No_Duplicates</th>\n",
              "      <th>Log_Total_With_Duplicates</th>\n",
              "      <th>Log_Total_No_Duplicates</th>\n",
              "    </tr>\n",
              "  </thead>\n",
              "  <tbody>\n",
              "    <tr>\n",
              "      <th>0</th>\n",
              "      <td>IQR</td>\n",
              "      <td>4609</td>\n",
              "      <td>2355</td>\n",
              "      <td>1857</td>\n",
              "      <td>41</td>\n",
              "    </tr>\n",
              "    <tr>\n",
              "      <th>1</th>\n",
              "      <td>Z-Score</td>\n",
              "      <td>449</td>\n",
              "      <td>315</td>\n",
              "      <td>206</td>\n",
              "      <td>58</td>\n",
              "    </tr>\n",
              "  </tbody>\n",
              "</table>\n",
              "</div>"
            ],
            "text/plain": [
              "    Method  Total_With_Duplicates  Total_No_Duplicates  \\\n",
              "0      IQR                   4609                 2355   \n",
              "1  Z-Score                    449                  315   \n",
              "\n",
              "   Log_Total_With_Duplicates  Log_Total_No_Duplicates  \n",
              "0                       1857                       41  \n",
              "1                        206                       58  "
            ]
          },
          "execution_count": 23,
          "metadata": {},
          "output_type": "execute_result"
        }
      ],
      "source": [
        "outlier_df = pd.DataFrame(\n",
        "    {\n",
        "        \"Method\": [\"IQR\", \"Z-Score\"],\n",
        "        \"Total_With_Duplicates\": [outliers_iqr_with_duplicates.shape[0], outliers_zscore_with_duplicates.shape[0]],\n",
        "        \"Total_No_Duplicates\": [outliers_iqr_no_duplicates.shape[0], outliers_zscore_no_duplicates.shape[0]],\n",
        "        \"Log_Total_With_Duplicates\": [outliers_iqr_log_with_duplicates.shape[0], outliers_zscore_log_with_duplicates.shape[0]],\n",
        "        \"Log_Total_No_Duplicates\": [outliers_iqr_log_no_duplicates.shape[0], outliers_zscore_log_no_duplicates.shape[0]]\n",
        "    }\n",
        ")\n",
        "\n",
        "\n",
        "print(\"Number of Outliers With and Without Duplicates in Total and Log_Total\")\n",
        "\n",
        "outlier_df"
      ]
    },
    {
      "cell_type": "markdown",
      "metadata": {},
      "source": [
        "### Train Data Set (Review)"
      ]
    },
    {
      "cell_type": "code",
      "execution_count": 24,
      "metadata": {},
      "outputs": [
        {
          "data": {
            "text/html": [
              "<div>\n",
              "<style scoped>\n",
              "    .dataframe tbody tr th:only-of-type {\n",
              "        vertical-align: middle;\n",
              "    }\n",
              "\n",
              "    .dataframe tbody tr th {\n",
              "        vertical-align: top;\n",
              "    }\n",
              "\n",
              "    .dataframe thead th {\n",
              "        text-align: right;\n",
              "    }\n",
              "</style>\n",
              "<table border=\"1\" class=\"dataframe\">\n",
              "  <thead>\n",
              "    <tr style=\"text-align: right;\">\n",
              "      <th></th>\n",
              "      <th>ID</th>\n",
              "      <th>Total</th>\n",
              "      <th>Location</th>\n",
              "      <th>Category_Health_Facility_UUID</th>\n",
              "      <th>Disease</th>\n",
              "      <th>Month</th>\n",
              "      <th>Year</th>\n",
              "      <th>Transformed_Latitude</th>\n",
              "      <th>Transformed_Longitude</th>\n",
              "      <th>Log_Total</th>\n",
              "      <th>Z_Score_Total</th>\n",
              "      <th>Z_Score_Log_Total</th>\n",
              "    </tr>\n",
              "  </thead>\n",
              "  <tbody>\n",
              "    <tr>\n",
              "      <th>0</th>\n",
              "      <td>ID_3a11929e-3317-476d-99f7-1bd9fb58f018_12_202...</td>\n",
              "      <td>0.0</td>\n",
              "      <td>ID_3a11929e-3317-476d-99f7-1bd9fb58f018</td>\n",
              "      <td>a9280aca-c872-46f5-ada7-4a7cc31cf6ec</td>\n",
              "      <td>Dysentery</td>\n",
              "      <td>12</td>\n",
              "      <td>2022</td>\n",
              "      <td>-8.62982</td>\n",
              "      <td>68.23267</td>\n",
              "      <td>0.00000</td>\n",
              "      <td>0.354932</td>\n",
              "      <td>0.724124</td>\n",
              "    </tr>\n",
              "    <tr>\n",
              "      <th>1</th>\n",
              "      <td>ID_3a11929e-3317-476d-99f7-1bd9fb58f018_12_202...</td>\n",
              "      <td>0.0</td>\n",
              "      <td>ID_3a11929e-3317-476d-99f7-1bd9fb58f018</td>\n",
              "      <td>a9280aca-c872-46f5-ada7-4a7cc31cf6ec</td>\n",
              "      <td>Typhoid</td>\n",
              "      <td>12</td>\n",
              "      <td>2022</td>\n",
              "      <td>-8.62982</td>\n",
              "      <td>68.23267</td>\n",
              "      <td>0.00000</td>\n",
              "      <td>0.354932</td>\n",
              "      <td>0.724124</td>\n",
              "    </tr>\n",
              "    <tr>\n",
              "      <th>2</th>\n",
              "      <td>ID_3a11929e-3317-476d-99f7-1bd9fb58f018_12_202...</td>\n",
              "      <td>0.0</td>\n",
              "      <td>ID_3a11929e-3317-476d-99f7-1bd9fb58f018</td>\n",
              "      <td>a9280aca-c872-46f5-ada7-4a7cc31cf6ec</td>\n",
              "      <td>Diarrhea</td>\n",
              "      <td>12</td>\n",
              "      <td>2022</td>\n",
              "      <td>-8.62982</td>\n",
              "      <td>68.23267</td>\n",
              "      <td>0.00000</td>\n",
              "      <td>0.354932</td>\n",
              "      <td>0.724124</td>\n",
              "    </tr>\n",
              "    <tr>\n",
              "      <th>5</th>\n",
              "      <td>ID_3a11929e-3317-476d-99f7-1bd9fb58f018_12_202...</td>\n",
              "      <td>0.0</td>\n",
              "      <td>ID_3a11929e-3317-476d-99f7-1bd9fb58f018</td>\n",
              "      <td>a9280aca-c872-46f5-ada7-4a7cc31cf6ec</td>\n",
              "      <td>Schistosomiasis</td>\n",
              "      <td>12</td>\n",
              "      <td>2022</td>\n",
              "      <td>-8.62982</td>\n",
              "      <td>68.23267</td>\n",
              "      <td>0.00000</td>\n",
              "      <td>0.354932</td>\n",
              "      <td>0.724124</td>\n",
              "    </tr>\n",
              "    <tr>\n",
              "      <th>6</th>\n",
              "      <td>ID_3a11929e-3317-476d-99f7-1bd9fb58f018_12_202...</td>\n",
              "      <td>6.0</td>\n",
              "      <td>ID_3a11929e-3317-476d-99f7-1bd9fb58f018</td>\n",
              "      <td>a9280aca-c872-46f5-ada7-4a7cc31cf6ec</td>\n",
              "      <td>Malaria</td>\n",
              "      <td>12</td>\n",
              "      <td>2022</td>\n",
              "      <td>-8.62982</td>\n",
              "      <td>68.23267</td>\n",
              "      <td>1.94591</td>\n",
              "      <td>0.170384</td>\n",
              "      <td>0.568363</td>\n",
              "    </tr>\n",
              "  </tbody>\n",
              "</table>\n",
              "</div>"
            ],
            "text/plain": [
              "                                                  ID  Total  \\\n",
              "0  ID_3a11929e-3317-476d-99f7-1bd9fb58f018_12_202...    0.0   \n",
              "1  ID_3a11929e-3317-476d-99f7-1bd9fb58f018_12_202...    0.0   \n",
              "2  ID_3a11929e-3317-476d-99f7-1bd9fb58f018_12_202...    0.0   \n",
              "5  ID_3a11929e-3317-476d-99f7-1bd9fb58f018_12_202...    0.0   \n",
              "6  ID_3a11929e-3317-476d-99f7-1bd9fb58f018_12_202...    6.0   \n",
              "\n",
              "                                  Location  \\\n",
              "0  ID_3a11929e-3317-476d-99f7-1bd9fb58f018   \n",
              "1  ID_3a11929e-3317-476d-99f7-1bd9fb58f018   \n",
              "2  ID_3a11929e-3317-476d-99f7-1bd9fb58f018   \n",
              "5  ID_3a11929e-3317-476d-99f7-1bd9fb58f018   \n",
              "6  ID_3a11929e-3317-476d-99f7-1bd9fb58f018   \n",
              "\n",
              "          Category_Health_Facility_UUID          Disease  Month  Year  \\\n",
              "0  a9280aca-c872-46f5-ada7-4a7cc31cf6ec        Dysentery     12  2022   \n",
              "1  a9280aca-c872-46f5-ada7-4a7cc31cf6ec          Typhoid     12  2022   \n",
              "2  a9280aca-c872-46f5-ada7-4a7cc31cf6ec         Diarrhea     12  2022   \n",
              "5  a9280aca-c872-46f5-ada7-4a7cc31cf6ec  Schistosomiasis     12  2022   \n",
              "6  a9280aca-c872-46f5-ada7-4a7cc31cf6ec          Malaria     12  2022   \n",
              "\n",
              "   Transformed_Latitude  Transformed_Longitude  Log_Total  Z_Score_Total  \\\n",
              "0              -8.62982               68.23267    0.00000       0.354932   \n",
              "1              -8.62982               68.23267    0.00000       0.354932   \n",
              "2              -8.62982               68.23267    0.00000       0.354932   \n",
              "5              -8.62982               68.23267    0.00000       0.354932   \n",
              "6              -8.62982               68.23267    1.94591       0.170384   \n",
              "\n",
              "   Z_Score_Log_Total  \n",
              "0           0.724124  \n",
              "1           0.724124  \n",
              "2           0.724124  \n",
              "5           0.724124  \n",
              "6           0.568363  "
            ]
          },
          "execution_count": 24,
          "metadata": {},
          "output_type": "execute_result"
        }
      ],
      "source": [
        "train.head()"
      ]
    },
    {
      "cell_type": "code",
      "execution_count": 25,
      "metadata": {},
      "outputs": [],
      "source": [
        "# train = train.drop([\"Z_Score_Total\",\"Z_Score_Log_Total\"], axis=1)\n",
        "# train.head()"
      ]
    },
    {
      "cell_type": "markdown",
      "metadata": {},
      "source": [
        "### Impute Outliers with Median"
      ]
    },
    {
      "cell_type": "code",
      "execution_count": 26,
      "metadata": {},
      "outputs": [],
      "source": [
        "train_no_outliers = train.copy()"
      ]
    },
    {
      "cell_type": "code",
      "execution_count": 27,
      "metadata": {},
      "outputs": [],
      "source": [
        "# Impute IQR outliers with median\n",
        "for col in [\"Total\", \"Log_Total\"]:\n",
        "    median_value = train_no_outliers[col].median()\n",
        "    train_no_outliers.loc[detect_outliers_iqr(train_no_outliers[col]), col] = median_value\n",
        "\n",
        "# Impute Z-score outliers with median\n",
        "for col in [\"Total\", \"Log_Total\"]:\n",
        "    median_value = train_no_outliers[col].median()\n",
        "    train_no_outliers.loc[train_no_outliers[f\"Z_Score_{col}\"] > 3, col] = median_value\n"
      ]
    },
    {
      "cell_type": "code",
      "execution_count": 28,
      "metadata": {},
      "outputs": [
        {
          "name": "stdout",
          "output_type": "stream",
          "text": [
            "Outliers Remaining After Imputation:\n",
            "    Method  Total_After_Imputation  Log_Total_After_Imputation\n",
            "0      IQR                    3735                          10\n",
            "1  Z-Score                     315                          58\n"
          ]
        }
      ],
      "source": [
        "# Step 1: Detect Outliers Again After Imputation\n",
        "outliers_iqr_after = {\n",
        "    \"Total\": len(detect_outliers_iqr(train_no_outliers[\"Total\"])),\n",
        "    \"Log_Total\": len(detect_outliers_iqr(train_no_outliers[\"Log_Total\"]))\n",
        "}\n",
        "\n",
        "outliers_zscore_after = {\n",
        "    \"Total\": (train_no_outliers[\"Z_Score_Total\"] > 3).sum(),\n",
        "    \"Log_Total\": (train_no_outliers[\"Z_Score_Log_Total\"] > 3).sum()\n",
        "}\n",
        "\n",
        "# Step 2: Create DataFrame to Compare Outliers Before and After Imputation\n",
        "outliers_after_df = pd.DataFrame(\n",
        "    {\n",
        "        \"Method\": [\"IQR\", \"Z-Score\"],\n",
        "        \"Total_After_Imputation\": [outliers_iqr_after[\"Total\"], outliers_zscore_after[\"Total\"]],\n",
        "        \"Log_Total_After_Imputation\": [outliers_iqr_after[\"Log_Total\"], outliers_zscore_after[\"Log_Total\"]]\n",
        "    }\n",
        ")\n",
        "\n",
        "# Step 3: Print Results\n",
        "print(\"Outliers Remaining After Imputation:\")\n",
        "print(outliers_after_df)\n"
      ]
    },
    {
      "cell_type": "code",
      "execution_count": null,
      "metadata": {},
      "outputs": [],
      "source": []
    },
    {
      "cell_type": "code",
      "execution_count": null,
      "metadata": {},
      "outputs": [],
      "source": []
    },
    {
      "cell_type": "markdown",
      "metadata": {},
      "source": [
        "### LATER"
      ]
    },
    {
      "cell_type": "markdown",
      "metadata": {},
      "source": [
        "### Skewness and Outliers"
      ]
    },
    {
      "cell_type": "code",
      "execution_count": 29,
      "metadata": {},
      "outputs": [],
      "source": [
        "def detect_outliers_iqr(data, multiplier=3.5):\n",
        "    \"\"\"Detects outliers in a given Pandas Series using the IQR method, with an adjustable multiplier.\"\"\"\n",
        "    data = data.dropna()  # Remove NaN values\n",
        "\n",
        "    q1 = np.percentile(data, 25)\n",
        "    q3 = np.percentile(data, 75)\n",
        "    IQR = q3 - q1\n",
        "    lwr_bound = q1 - (1.5 * IQR)  # Keep lower bound strict\n",
        "    upr_bound = q3 + (multiplier * IQR)  # Adjust upper bound using multiplier\n",
        "\n",
        "    return data[(data < lwr_bound) | (data > upr_bound)].index\n",
        "\n",
        "# Apply Log Transformation\n",
        "train[\"Log_Total\"] = np.log1p(train[\"Total\"])  # log1p prevents log(0) errors\n",
        "\n",
        "# Detect outliers on log-transformed data with the corrected function\n",
        "outlier_indices = detect_outliers_iqr(train[\"Log_Total\"], multiplier=1.5) "
      ]
    },
    {
      "cell_type": "code",
      "execution_count": 30,
      "metadata": {},
      "outputs": [
        {
          "name": "stdout",
          "output_type": "stream",
          "text": [
            "Number of outliers using Z-score method on original Total (with duplicates): 5790\n",
            "\n",
            "Number of outliers using Z-score method on Log_Total (no duplicates): 58\n"
          ]
        }
      ],
      "source": [
        "train[\"Log_Z_Score\"] = np.abs(zscore(train[\"Log_Total\"]))  # Compute absolute Z-score\n",
        "outlier_indices_z = train[train[\"Log_Z_Score\"] > 3].index  # Use threshold of 3\n",
        "outliers_indices_z_normal = train_with_duplicates[train_with_duplicates[\"Total\"] > 3].index\n",
        "\n",
        "print(f\"Number of outliers using Z-score method on original Total (with duplicates): {len(outliers_indices_z_normal)}\\n\")\n",
        "print(f\"Number of outliers using Z-score method on Log_Total (no duplicates): {len(outlier_indices_z)}\")\n"
      ]
    },
    {
      "cell_type": "code",
      "execution_count": 31,
      "metadata": {},
      "outputs": [
        {
          "data": {
            "image/png": "[encoded data removed]",
            "text/plain": [
              "<Figure size 1200x600 with 2 Axes>"
            ]
          },
          "metadata": {},
          "output_type": "display_data"
        }
      ],
      "source": [
        "def plot_boxplot_comparison(df, original_col, transformed_col):\n",
        "    \"\"\"Plots side-by-side boxplots for original and log-transformed columns.\"\"\"\n",
        "    fig, axes = plt.subplots(1, 2, figsize=(12, 6))\n",
        "\n",
        "    # Boxplot for Original \"Total\" column\n",
        "    sns.boxplot(y=df[original_col], ax=axes[0])\n",
        "    axes[0].set_title(f\"Boxplot of Original '{original_col}' Column\")\n",
        "    axes[0].set_ylabel(original_col)\n",
        "\n",
        "    # Boxplot for Log-Transformed \"Total\" column\n",
        "    sns.boxplot(y=df[transformed_col], ax=axes[1])\n",
        "    axes[1].set_title(f\"Boxplot of Log-Transformed '{transformed_col}' Column\")\n",
        "    axes[1].set_ylabel(transformed_col)\n",
        "\n",
        "    plt.tight_layout()\n",
        "    plt.show()\n",
        "\n",
        "# Call the function to compare original and log-transformed Total column\n",
        "plot_boxplot_comparison(train, \"Total\", \"Log_Total\")"
      ]
    },
    {
      "cell_type": "markdown",
      "metadata": {},
      "source": [
        "Removing the duplicates significantly removed the outliers."
      ]
    },
    {
      "cell_type": "code",
      "execution_count": null,
      "metadata": {},
      "outputs": [],
      "source": []
    },
    {
      "cell_type": "markdown",
      "metadata": {},
      "source": [
        "### Original Starter"
      ]
    },
    {
      "cell_type": "code",
      "execution_count": 32,
      "metadata": {
        "id": "P0b_prP7m1LL"
      },
      "outputs": [],
      "source": [
        "# Combine train and test datasets for consistent preprocessing\n",
        "hospital_data = pd.concat([train, test])"
      ]
    },
    {
      "cell_type": "code",
      "execution_count": 33,
      "metadata": {
        "id": "dQM9IQDSm1NW"
      },
      "outputs": [],
      "source": [
        "# Drop unnecessary columns from supplementary datasets\n",
        "for df in [toilets, waste_management, water_sources]:\n",
        "    df.drop(columns=['Year', 'Month'], inplace=True)"
      ]
    },
    {
      "cell_type": "code",
      "execution_count": 34,
      "metadata": {
        "id": "-ZC07j0Am1Pu"
      },
      "outputs": [],
      "source": [
        "# Rename columns for clarity\n",
        "def rename_columns(df, prefix):\n",
        "    for col in df.columns:\n",
        "        if col not in ['Month_Year_lat_lon', 'lat_lon']:\n",
        "            df.rename(columns={col: f\"{prefix}_{col}\"}, inplace=True)\n",
        "\n",
        "rename_columns(toilets, \"toilet\")\n",
        "rename_columns(waste_management, \"waste\")\n",
        "rename_columns(water_sources, \"water\")\n"
      ]
    },
    {
      "cell_type": "code",
      "execution_count": 35,
      "metadata": {
        "colab": {
          "base_uri": "https://localhost:8080/"
        },
        "id": "XBbt0l3Um1SP",
        "outputId": "a04607d4-0f49-422f-dff5-8ec88d4eb174"
      },
      "outputs": [
        {
          "name": "stderr",
          "output_type": "stream",
          "text": [
            "/tmp/ipykernel_177473/3418388177.py:2: FutureWarning: A value is trying to be set on a copy of a DataFrame or Series through chained assignment using an inplace method.\n",
            "The behavior will change in pandas 3.0. This inplace method will never work because the intermediate object on which we are setting values always behaves as a copy.\n",
            "\n",
            "For example, when doing 'df[col].method(value, inplace=True)', try using 'df.method({col: value}, inplace=True)' or df[col] = df[col].method(value) instead, to perform the operation inplace on the original object.\n",
            "\n",
            "\n",
            "  hospital_data['Total'].fillna(0, inplace=True)\n"
          ]
        }
      ],
      "source": [
        "# Fill missing values in the 'Total' column\n",
        "hospital_data['Total'].fillna(0, inplace=True)"
      ]
    },
    {
      "cell_type": "code",
      "execution_count": 36,
      "metadata": {
        "id": "NfTHBfvEm1Uu"
      },
      "outputs": [],
      "source": [
        "# Drop rows with missing latitude and longitude in water sources\n",
        "water_sources.dropna(subset=['water_Transformed_Latitude'], inplace=True)"
      ]
    },
    {
      "cell_type": "code",
      "execution_count": 37,
      "metadata": {
        "id": "E7bOibx7m1Xd"
      },
      "outputs": [],
      "source": [
        "# Visualize locations for a specific year and month\n",
        "# Note the months/year should in the given timeframe [2019, 2023]\n",
        "def plot_locations(year=2022, month=1, month_name='January'):\n",
        "    if year < 2019 or year > 2023:\n",
        "        print(\"Invalid year. Please choose a year between 2019 and 2023.\")\n",
        "        return\n",
        "\n",
        "    if month < 1 or month > 12:\n",
        "        print(\"Invalid month. Please choose a month between 1 and 12.\")\n",
        "        return\n",
        "\n",
        "    if month_name.capitalize() not in ['January', 'February', 'March',\n",
        "                                       'April', 'May', 'June', 'July',\n",
        "                                       'August', 'September', 'October',\n",
        "                                       'November', 'December']:\n",
        "        print(\"Invalid month name. Please choose from 'January' to 'December'.\")\n",
        "        return\n",
        "\n",
        "    plt.figure(figsize=(12, 8))\n",
        "    subsets = [\n",
        "        (hospital_data.query(f\"Year == {year} and Month == {month}\"), 'Transformed', 'Hospital', 's'),\n",
        "        (water_sources.query(f\"water_Month_Year == '{month}_{year}'\"), 'water_Transformed', 'Water', 'o'),\n",
        "        (waste_management.query(f\"waste_Month_Year == '{month}_{year}'\"), 'waste_Transformed', 'Waste', 'x'),\n",
        "        (toilets.query(f\"toilet_Month_Year == '{month}_{year}'\"), 'toilet_Transformed', 'Toilet', '^'),\n",
        "    ]\n",
        "    for df, prefix, label, marker in subsets:\n",
        "        plt.scatter(df[f'{prefix}_Longitude'], df[f'{prefix}_Latitude'], label=label, alpha=0.6, marker=marker)\n",
        "    plt.title(f'Locations ({month_name.capitalize()} {year})')\n",
        "    plt.xlabel('Longitude')\n",
        "    plt.ylabel('Latitude')\n",
        "    plt.legend()\n",
        "    plt.grid(True)\n",
        "    plt.show()"
      ]
    },
    {
      "cell_type": "code",
      "execution_count": 38,
      "metadata": {
        "colab": {
          "base_uri": "https://localhost:8080/",
          "height": 559
        },
        "id": "3O4er4lYm1bS",
        "outputId": "eeca8427-b8fb-4e70-b96d-e1c6d2e76b11"
      },
      "outputs": [
        {
          "data": {
            "image/png": "[encoded data removed]",
            "text/plain": [
              "<Figure size 1200x800 with 1 Axes>"
            ]
          },
          "metadata": {},
          "output_type": "display_data"
        }
      ],
      "source": [
        "plot_locations()"
      ]
    },
    {
      "cell_type": "code",
      "execution_count": 39,
      "metadata": {
        "colab": {
          "base_uri": "https://localhost:8080/",
          "height": 559
        },
        "id": "e4Ru14OsPzn0",
        "outputId": "841c68f6-b17f-424a-caa7-9f0d98b2b894"
      },
      "outputs": [
        {
          "data": {
            "image/png": "[encoded data removed]",
            "text/plain": [
              "<Figure size 1200x800 with 1 Axes>"
            ]
          },
          "metadata": {},
          "output_type": "display_data"
        }
      ],
      "source": [
        "plot_locations(year=2023, month=2, month_name='February')"
      ]
    },
    {
      "cell_type": "code",
      "execution_count": 40,
      "metadata": {
        "colab": {
          "base_uri": "https://localhost:8080/",
          "height": 559
        },
        "id": "7nL7bzNrRikw",
        "outputId": "c796d6ea-3dfd-42f7-dfcb-5f0238296544"
      },
      "outputs": [
        {
          "data": {
            "image/png": "[encoded data removed]",
            "text/plain": [
              "<Figure size 1200x800 with 1 Axes>"
            ]
          },
          "metadata": {},
          "output_type": "display_data"
        }
      ],
      "source": [
        "plot_locations(year=2023, month=12, month_name='December')"
      ]
    },
    {
      "cell_type": "code",
      "execution_count": 41,
      "metadata": {
        "colab": {
          "base_uri": "https://localhost:8080/"
        },
        "id": "km20S7mgSMOP",
        "outputId": "ec55b7bc-d2ea-4d0b-ef12-c7ac3e7996ab"
      },
      "outputs": [
        {
          "name": "stdout",
          "output_type": "stream",
          "text": [
            "Invalid year. Please choose a year between 2019 and 2023.\n"
          ]
        }
      ],
      "source": [
        "plot_locations(year=2000, month=1, month_name='January')"
      ]
    },
    {
      "cell_type": "code",
      "execution_count": 42,
      "metadata": {
        "id": "vJk_JmwXm1eR"
      },
      "outputs": [],
      "source": [
        "def find_nearest(hospital_df, location_df, lat_col, lon_col, id_col):\n",
        "    # Create a cKDTree for efficient nearest neighbour search\n",
        "    tree = cKDTree(location_df[[lat_col, lon_col]].values)\n",
        "    nearest = {}\n",
        "    # Loop through each hospital and find the nearest site in location_df\n",
        "    for _, row in hospital_df.iterrows():\n",
        "        _, idx = tree.query([row['Transformed_Latitude'], row['Transformed_Longitude']])\n",
        "        nearest[row['ID']] = location_df.iloc[idx][id_col]\n",
        "    return nearest\n"
      ]
    },
    {
      "cell_type": "code",
      "execution_count": 43,
      "metadata": {
        "id": "55h7ySyeoTQS"
      },
      "outputs": [],
      "source": [
        "# Ensure unique identifier columns exist in all supplementary datasets\n",
        "for df, prefix in [(toilets, 'toilet'), (waste_management, 'waste'), (water_sources, 'water')]:\n",
        "    df[f\"{prefix}_Month_Year_lat_lon\"] = (\n",
        "        df[f\"{prefix}_Month_Year\"] + '_' +\n",
        "        df[f\"{prefix}_Transformed_Latitude\"].astype(str) + '_' +\n",
        "        df[f\"{prefix}_Transformed_Longitude\"].astype(str)\n",
        "    )"
      ]
    },
    {
      "cell_type": "code",
      "execution_count": 44,
      "metadata": {
        "colab": {
          "base_uri": "https://localhost:8080/",
          "height": 256
        },
        "id": "1hAqWjt3U7ry",
        "outputId": "613989e4-7a67-430f-d0c0-64cc9e2c04e1"
      },
      "outputs": [
        {
          "data": {
            "text/html": [
              "<div>\n",
              "<style scoped>\n",
              "    .dataframe tbody tr th:only-of-type {\n",
              "        vertical-align: middle;\n",
              "    }\n",
              "\n",
              "    .dataframe tbody tr th {\n",
              "        vertical-align: top;\n",
              "    }\n",
              "\n",
              "    .dataframe thead th {\n",
              "        text-align: right;\n",
              "    }\n",
              "</style>\n",
              "<table border=\"1\" class=\"dataframe\">\n",
              "  <thead>\n",
              "    <tr style=\"text-align: right;\">\n",
              "      <th></th>\n",
              "      <th>toilet_10u</th>\n",
              "      <th>toilet_10v</th>\n",
              "      <th>toilet_2d</th>\n",
              "      <th>toilet_2t</th>\n",
              "      <th>toilet_evabs</th>\n",
              "      <th>toilet_evaow</th>\n",
              "      <th>toilet_evatc</th>\n",
              "      <th>toilet_evavt</th>\n",
              "      <th>toilet_albedo</th>\n",
              "      <th>toilet_lshf</th>\n",
              "      <th>...</th>\n",
              "      <th>toilet_swvl1</th>\n",
              "      <th>toilet_swvl2</th>\n",
              "      <th>toilet_swvl3</th>\n",
              "      <th>toilet_swvl4</th>\n",
              "      <th>toilet_Transformed_Latitude</th>\n",
              "      <th>toilet_Transformed_Longitude</th>\n",
              "      <th>toilet_Month_Year</th>\n",
              "      <th>lat_lon</th>\n",
              "      <th>Month_Year_lat_lon</th>\n",
              "      <th>toilet_Month_Year_lat_lon</th>\n",
              "    </tr>\n",
              "  </thead>\n",
              "  <tbody>\n",
              "    <tr>\n",
              "      <th>0</th>\n",
              "      <td>-1.006850</td>\n",
              "      <td>-0.714544</td>\n",
              "      <td>293.502</td>\n",
              "      <td>297.417</td>\n",
              "      <td>-0.002489</td>\n",
              "      <td>-0.001031</td>\n",
              "      <td>-0.000989</td>\n",
              "      <td>-3.445890e-08</td>\n",
              "      <td>0.173221</td>\n",
              "      <td>0.650001</td>\n",
              "      <td>...</td>\n",
              "      <td>0.346542</td>\n",
              "      <td>0.335724</td>\n",
              "      <td>0.264359</td>\n",
              "      <td>0.300018</td>\n",
              "      <td>-8.61768</td>\n",
              "      <td>68.24536</td>\n",
              "      <td>1_2019</td>\n",
              "      <td>-8.61768_68.24536</td>\n",
              "      <td>1_2019_-8.61768_68.24536</td>\n",
              "      <td>1_2019_-8.61768_68.24536</td>\n",
              "    </tr>\n",
              "    <tr>\n",
              "      <th>1</th>\n",
              "      <td>-1.408560</td>\n",
              "      <td>-0.662555</td>\n",
              "      <td>292.943</td>\n",
              "      <td>297.978</td>\n",
              "      <td>-0.002556</td>\n",
              "      <td>-0.001076</td>\n",
              "      <td>-0.000734</td>\n",
              "      <td>-3.818420e-08</td>\n",
              "      <td>0.173808</td>\n",
              "      <td>0.650001</td>\n",
              "      <td>...</td>\n",
              "      <td>0.254517</td>\n",
              "      <td>0.259918</td>\n",
              "      <td>0.281769</td>\n",
              "      <td>0.296188</td>\n",
              "      <td>-8.61768</td>\n",
              "      <td>68.24536</td>\n",
              "      <td>2_2019</td>\n",
              "      <td>-8.61768_68.24536</td>\n",
              "      <td>2_2019_-8.61768_68.24536</td>\n",
              "      <td>2_2019_-8.61768_68.24536</td>\n",
              "    </tr>\n",
              "    <tr>\n",
              "      <th>2</th>\n",
              "      <td>-0.892110</td>\n",
              "      <td>-0.449448</td>\n",
              "      <td>293.250</td>\n",
              "      <td>297.989</td>\n",
              "      <td>-0.002535</td>\n",
              "      <td>-0.000980</td>\n",
              "      <td>-0.000713</td>\n",
              "      <td>-3.678720e-08</td>\n",
              "      <td>0.178823</td>\n",
              "      <td>0.650001</td>\n",
              "      <td>...</td>\n",
              "      <td>0.278152</td>\n",
              "      <td>0.284195</td>\n",
              "      <td>0.261597</td>\n",
              "      <td>0.291672</td>\n",
              "      <td>-8.61768</td>\n",
              "      <td>68.24536</td>\n",
              "      <td>3_2019</td>\n",
              "      <td>-8.61768_68.24536</td>\n",
              "      <td>3_2019_-8.61768_68.24536</td>\n",
              "      <td>3_2019_-8.61768_68.24536</td>\n",
              "    </tr>\n",
              "    <tr>\n",
              "      <th>3</th>\n",
              "      <td>-0.392348</td>\n",
              "      <td>0.384925</td>\n",
              "      <td>293.934</td>\n",
              "      <td>296.542</td>\n",
              "      <td>-0.001748</td>\n",
              "      <td>-0.000658</td>\n",
              "      <td>-0.001343</td>\n",
              "      <td>-2.700840e-08</td>\n",
              "      <td>0.180959</td>\n",
              "      <td>0.650017</td>\n",
              "      <td>...</td>\n",
              "      <td>0.385513</td>\n",
              "      <td>0.378616</td>\n",
              "      <td>0.309784</td>\n",
              "      <td>0.288925</td>\n",
              "      <td>-8.61768</td>\n",
              "      <td>68.24536</td>\n",
              "      <td>4_2019</td>\n",
              "      <td>-8.61768_68.24536</td>\n",
              "      <td>4_2019_-8.61768_68.24536</td>\n",
              "      <td>4_2019_-8.61768_68.24536</td>\n",
              "    </tr>\n",
              "    <tr>\n",
              "      <th>4</th>\n",
              "      <td>-0.447104</td>\n",
              "      <td>0.581028</td>\n",
              "      <td>292.571</td>\n",
              "      <td>294.726</td>\n",
              "      <td>-0.001374</td>\n",
              "      <td>-0.000462</td>\n",
              "      <td>-0.001139</td>\n",
              "      <td>-2.048910e-08</td>\n",
              "      <td>0.182375</td>\n",
              "      <td>0.650009</td>\n",
              "      <td>...</td>\n",
              "      <td>0.397659</td>\n",
              "      <td>0.400055</td>\n",
              "      <td>0.392654</td>\n",
              "      <td>0.309311</td>\n",
              "      <td>-8.61768</td>\n",
              "      <td>68.24536</td>\n",
              "      <td>5_2019</td>\n",
              "      <td>-8.61768_68.24536</td>\n",
              "      <td>5_2019_-8.61768_68.24536</td>\n",
              "      <td>5_2019_-8.61768_68.24536</td>\n",
              "    </tr>\n",
              "  </tbody>\n",
              "</table>\n",
              "<p>5 rows × 42 columns</p>\n",
              "</div>"
            ],
            "text/plain": [
              "   toilet_10u  toilet_10v  toilet_2d  toilet_2t  toilet_evabs  toilet_evaow  \\\n",
              "0   -1.006850   -0.714544    293.502    297.417     -0.002489     -0.001031   \n",
              "1   -1.408560   -0.662555    292.943    297.978     -0.002556     -0.001076   \n",
              "2   -0.892110   -0.449448    293.250    297.989     -0.002535     -0.000980   \n",
              "3   -0.392348    0.384925    293.934    296.542     -0.001748     -0.000658   \n",
              "4   -0.447104    0.581028    292.571    294.726     -0.001374     -0.000462   \n",
              "\n",
              "   toilet_evatc  toilet_evavt  toilet_albedo  toilet_lshf  ...  toilet_swvl1  \\\n",
              "0     -0.000989 -3.445890e-08       0.173221     0.650001  ...      0.346542   \n",
              "1     -0.000734 -3.818420e-08       0.173808     0.650001  ...      0.254517   \n",
              "2     -0.000713 -3.678720e-08       0.178823     0.650001  ...      0.278152   \n",
              "3     -0.001343 -2.700840e-08       0.180959     0.650017  ...      0.385513   \n",
              "4     -0.001139 -2.048910e-08       0.182375     0.650009  ...      0.397659   \n",
              "\n",
              "   toilet_swvl2  toilet_swvl3  toilet_swvl4  toilet_Transformed_Latitude  \\\n",
              "0      0.335724      0.264359      0.300018                     -8.61768   \n",
              "1      0.259918      0.281769      0.296188                     -8.61768   \n",
              "2      0.284195      0.261597      0.291672                     -8.61768   \n",
              "3      0.378616      0.309784      0.288925                     -8.61768   \n",
              "4      0.400055      0.392654      0.309311                     -8.61768   \n",
              "\n",
              "   toilet_Transformed_Longitude  toilet_Month_Year            lat_lon  \\\n",
              "0                      68.24536             1_2019  -8.61768_68.24536   \n",
              "1                      68.24536             2_2019  -8.61768_68.24536   \n",
              "2                      68.24536             3_2019  -8.61768_68.24536   \n",
              "3                      68.24536             4_2019  -8.61768_68.24536   \n",
              "4                      68.24536             5_2019  -8.61768_68.24536   \n",
              "\n",
              "         Month_Year_lat_lon  toilet_Month_Year_lat_lon  \n",
              "0  1_2019_-8.61768_68.24536   1_2019_-8.61768_68.24536  \n",
              "1  2_2019_-8.61768_68.24536   2_2019_-8.61768_68.24536  \n",
              "2  3_2019_-8.61768_68.24536   3_2019_-8.61768_68.24536  \n",
              "3  4_2019_-8.61768_68.24536   4_2019_-8.61768_68.24536  \n",
              "4  5_2019_-8.61768_68.24536   5_2019_-8.61768_68.24536  \n",
              "\n",
              "[5 rows x 42 columns]"
            ]
          },
          "execution_count": 44,
          "metadata": {},
          "output_type": "execute_result"
        }
      ],
      "source": [
        "toilets.head()"
      ]
    },
    {
      "cell_type": "code",
      "execution_count": 45,
      "metadata": {
        "id": "KVikZCpJneHF"
      },
      "outputs": [],
      "source": [
        "# Merge datasets with nearest locations\n",
        "merged_data = hospital_data.copy()\n",
        "datasets = [\n",
        "    (toilets, 'toilet', 'toilet_Month_Year_lat_lon'),\n",
        "    (waste_management, 'waste', 'waste_Month_Year_lat_lon'),\n",
        "    (water_sources, 'water', 'water_Month_Year_lat_lon'),\n",
        "]"
      ]
    },
    {
      "cell_type": "code",
      "execution_count": 46,
      "metadata": {
        "id": "2Nkmm7HxnevS"
      },
      "outputs": [],
      "source": [
        "for df, prefix, id_col in datasets:\n",
        "    nearest = find_nearest(merged_data, df, f\"{prefix}_Transformed_Latitude\", f\"{prefix}_Transformed_Longitude\", id_col)\n",
        "    nearest_df = pd.DataFrame(list(nearest.items()), columns=['ID', id_col])\n",
        "    merged_data = merged_data.merge(nearest_df, on=\"ID\").merge(df, on=id_col)"
      ]
    },
    {
      "cell_type": "code",
      "execution_count": 47,
      "metadata": {
        "colab": {
          "base_uri": "https://localhost:8080/"
        },
        "id": "gJO7vR3YV_t0",
        "outputId": "a71b2340-900c-4790-c1a3-c11da0e86665"
      },
      "outputs": [
        {
          "data": {
            "text/plain": [
              "(22520, 139)"
            ]
          },
          "execution_count": 47,
          "metadata": {},
          "output_type": "execute_result"
        }
      ],
      "source": [
        "merged_data.shape"
      ]
    },
    {
      "cell_type": "code",
      "execution_count": 48,
      "metadata": {
        "colab": {
          "base_uri": "https://localhost:8080/",
          "height": 266
        },
        "id": "z_KM_F1sWN31",
        "outputId": "db91fba8-f06c-4108-b46d-7db5cba6aeee"
      },
      "outputs": [
        {
          "data": {
            "text/html": [
              "<div>\n",
              "<style scoped>\n",
              "    .dataframe tbody tr th:only-of-type {\n",
              "        vertical-align: middle;\n",
              "    }\n",
              "\n",
              "    .dataframe tbody tr th {\n",
              "        vertical-align: top;\n",
              "    }\n",
              "\n",
              "    .dataframe thead th {\n",
              "        text-align: right;\n",
              "    }\n",
              "</style>\n",
              "<table border=\"1\" class=\"dataframe\">\n",
              "  <thead>\n",
              "    <tr style=\"text-align: right;\">\n",
              "      <th></th>\n",
              "      <th>ID</th>\n",
              "      <th>Total</th>\n",
              "      <th>Location</th>\n",
              "      <th>Category_Health_Facility_UUID</th>\n",
              "      <th>Disease</th>\n",
              "      <th>Month</th>\n",
              "      <th>Year</th>\n",
              "      <th>Transformed_Latitude</th>\n",
              "      <th>Transformed_Longitude</th>\n",
              "      <th>Log_Total</th>\n",
              "      <th>...</th>\n",
              "      <th>water_tp</th>\n",
              "      <th>water_swvl1</th>\n",
              "      <th>water_swvl2</th>\n",
              "      <th>water_swvl3</th>\n",
              "      <th>water_swvl4</th>\n",
              "      <th>water_Transformed_Latitude</th>\n",
              "      <th>water_Transformed_Longitude</th>\n",
              "      <th>water_Month_Year</th>\n",
              "      <th>lat_lon</th>\n",
              "      <th>Month_Year_lat_lon</th>\n",
              "    </tr>\n",
              "  </thead>\n",
              "  <tbody>\n",
              "    <tr>\n",
              "      <th>0</th>\n",
              "      <td>ID_3a11929e-3317-476d-99f7-1bd9fb58f018_12_202...</td>\n",
              "      <td>0.0</td>\n",
              "      <td>ID_3a11929e-3317-476d-99f7-1bd9fb58f018</td>\n",
              "      <td>a9280aca-c872-46f5-ada7-4a7cc31cf6ec</td>\n",
              "      <td>Dysentery</td>\n",
              "      <td>12</td>\n",
              "      <td>2022</td>\n",
              "      <td>-8.62982</td>\n",
              "      <td>68.23267</td>\n",
              "      <td>0.0</td>\n",
              "      <td>...</td>\n",
              "      <td>0.002667</td>\n",
              "      <td>0.325867</td>\n",
              "      <td>0.325302</td>\n",
              "      <td>0.281708</td>\n",
              "      <td>0.24585</td>\n",
              "      <td>-8.62966</td>\n",
              "      <td>68.23589</td>\n",
              "      <td>12_2023</td>\n",
              "      <td>-8.62966_68.23589</td>\n",
              "      <td>12_2023_-8.62966_68.23589</td>\n",
              "    </tr>\n",
              "    <tr>\n",
              "      <th>1</th>\n",
              "      <td>ID_3a11929e-3317-476d-99f7-1bd9fb58f018_12_202...</td>\n",
              "      <td>0.0</td>\n",
              "      <td>ID_3a11929e-3317-476d-99f7-1bd9fb58f018</td>\n",
              "      <td>a9280aca-c872-46f5-ada7-4a7cc31cf6ec</td>\n",
              "      <td>Typhoid</td>\n",
              "      <td>12</td>\n",
              "      <td>2022</td>\n",
              "      <td>-8.62982</td>\n",
              "      <td>68.23267</td>\n",
              "      <td>0.0</td>\n",
              "      <td>...</td>\n",
              "      <td>0.002667</td>\n",
              "      <td>0.325867</td>\n",
              "      <td>0.325302</td>\n",
              "      <td>0.281708</td>\n",
              "      <td>0.24585</td>\n",
              "      <td>-8.62966</td>\n",
              "      <td>68.23589</td>\n",
              "      <td>12_2023</td>\n",
              "      <td>-8.62966_68.23589</td>\n",
              "      <td>12_2023_-8.62966_68.23589</td>\n",
              "    </tr>\n",
              "  </tbody>\n",
              "</table>\n",
              "<p>2 rows × 139 columns</p>\n",
              "</div>"
            ],
            "text/plain": [
              "                                                  ID  Total  \\\n",
              "0  ID_3a11929e-3317-476d-99f7-1bd9fb58f018_12_202...    0.0   \n",
              "1  ID_3a11929e-3317-476d-99f7-1bd9fb58f018_12_202...    0.0   \n",
              "\n",
              "                                  Location  \\\n",
              "0  ID_3a11929e-3317-476d-99f7-1bd9fb58f018   \n",
              "1  ID_3a11929e-3317-476d-99f7-1bd9fb58f018   \n",
              "\n",
              "          Category_Health_Facility_UUID    Disease  Month  Year  \\\n",
              "0  a9280aca-c872-46f5-ada7-4a7cc31cf6ec  Dysentery     12  2022   \n",
              "1  a9280aca-c872-46f5-ada7-4a7cc31cf6ec    Typhoid     12  2022   \n",
              "\n",
              "   Transformed_Latitude  Transformed_Longitude  Log_Total  ...  water_tp  \\\n",
              "0              -8.62982               68.23267        0.0  ...  0.002667   \n",
              "1              -8.62982               68.23267        0.0  ...  0.002667   \n",
              "\n",
              "   water_swvl1  water_swvl2 water_swvl3  water_swvl4  \\\n",
              "0     0.325867     0.325302    0.281708      0.24585   \n",
              "1     0.325867     0.325302    0.281708      0.24585   \n",
              "\n",
              "   water_Transformed_Latitude  water_Transformed_Longitude  water_Month_Year  \\\n",
              "0                    -8.62966                     68.23589           12_2023   \n",
              "1                    -8.62966                     68.23589           12_2023   \n",
              "\n",
              "             lat_lon         Month_Year_lat_lon  \n",
              "0  -8.62966_68.23589  12_2023_-8.62966_68.23589  \n",
              "1  -8.62966_68.23589  12_2023_-8.62966_68.23589  \n",
              "\n",
              "[2 rows x 139 columns]"
            ]
          },
          "execution_count": 48,
          "metadata": {},
          "output_type": "execute_result"
        }
      ],
      "source": [
        "merged_data.head(2)"
      ]
    },
    {
      "cell_type": "markdown",
      "metadata": {
        "id": "5ZB6-U9UnhC_"
      },
      "source": [
        "## Start modeling"
      ]
    },
    {
      "cell_type": "code",
      "execution_count": 49,
      "metadata": {
        "id": "_8vI4Z2Pnmmw"
      },
      "outputs": [],
      "source": [
        "# Split merged data into train and test sets\n",
        "train_df = merged_data[merged_data['Year'] < 2023]\n",
        "test_df = merged_data[merged_data['Year'] == 2023]"
      ]
    },
    {
      "cell_type": "code",
      "execution_count": 50,
      "metadata": {
        "id": "ythI0pe-p-Qy"
      },
      "outputs": [],
      "source": [
        "# Specify the target column\n",
        "target_column = 'Total'\n",
        "\n",
        "# Feature and target split\n",
        "X = train_df.drop(columns=[target_column, 'ID', 'Location'])  # Exclude unnecessary columns\n",
        "y = train_df[target_column]"
      ]
    },
    {
      "cell_type": "code",
      "execution_count": 51,
      "metadata": {
        "id": "INIUEtEyp-TO"
      },
      "outputs": [],
      "source": [
        "# Handle categorical features\n",
        "categorical_cols = X.select_dtypes(include=['object']).columns\n",
        "for col in categorical_cols:\n",
        "    le = LabelEncoder()\n",
        "    X[col] = le.fit_transform(X[col])\n"
      ]
    },
    {
      "cell_type": "code",
      "execution_count": 52,
      "metadata": {
        "id": "l0D0795ep-YC"
      },
      "outputs": [],
      "source": [
        "# Split the dataset\n",
        "X_train, X_test, y_train, y_test = train_test_split(X, y, test_size=0.2, random_state=42)"
      ]
    },
    {
      "cell_type": "code",
      "execution_count": 53,
      "metadata": {
        "colab": {
          "base_uri": "https://localhost:8080/",
          "height": 80
        },
        "id": "w5hzunK8p-de",
        "outputId": "3a3598f2-f8a9-4849-944a-0edec4124a5f"
      },
      "outputs": [
        {
          "data": {
            "text/html": [
              "<style>#sk-container-id-1 {\n",
              "  /* Definition of color scheme common for light and dark mode */\n",
              "  --sklearn-color-text: #000;\n",
              "  --sklearn-color-text-muted: #666;\n",
              "  --sklearn-color-line: gray;\n",
              "  /* Definition of color scheme for unfitted estimators */\n",
              "  --sklearn-color-unfitted-level-0: #fff5e6;\n",
              "  --sklearn-color-unfitted-level-1: #f6e4d2;\n",
              "  --sklearn-color-unfitted-level-2: #ffe0b3;\n",
              "  --sklearn-color-unfitted-level-3: chocolate;\n",
              "  /* Definition of color scheme for fitted estimators */\n",
              "  --sklearn-color-fitted-level-0: #f0f8ff;\n",
              "  --sklearn-color-fitted-level-1: #d4ebff;\n",
              "  --sklearn-color-fitted-level-2: #b3dbfd;\n",
              "  --sklearn-color-fitted-level-3: cornflowerblue;\n",
              "\n",
              "  /* Specific color for light theme */\n",
              "  --sklearn-color-text-on-default-background: var(--sg-text-color, var(--theme-code-foreground, var(--jp-content-font-color1, black)));\n",
              "  --sklearn-color-background: var(--sg-background-color, var(--theme-background, var(--jp-layout-color0, white)));\n",
              "  --sklearn-color-border-box: var(--sg-text-color, var(--theme-code-foreground, var(--jp-content-font-color1, black)));\n",
              "  --sklearn-color-icon: #696969;\n",
              "\n",
              "  @media (prefers-color-scheme: dark) {\n",
              "    /* Redefinition of color scheme for dark theme */\n",
              "    --sklearn-color-text-on-default-background: var(--sg-text-color, var(--theme-code-foreground, var(--jp-content-font-color1, white)));\n",
              "    --sklearn-color-background: var(--sg-background-color, var(--theme-background, var(--jp-layout-color0, #111)));\n",
              "    --sklearn-color-border-box: var(--sg-text-color, var(--theme-code-foreground, var(--jp-content-font-color1, white)));\n",
              "    --sklearn-color-icon: #878787;\n",
              "  }\n",
              "}\n",
              "\n",
              "#sk-container-id-1 {\n",
              "  color: var(--sklearn-color-text);\n",
              "}\n",
              "\n",
              "#sk-container-id-1 pre {\n",
              "  padding: 0;\n",
              "}\n",
              "\n",
              "#sk-container-id-1 input.sk-hidden--visually {\n",
              "  border: 0;\n",
              "  clip: rect(1px 1px 1px 1px);\n",
              "  clip: rect(1px, 1px, 1px, 1px);\n",
              "  height: 1px;\n",
              "  margin: -1px;\n",
              "  overflow: hidden;\n",
              "  padding: 0;\n",
              "  position: absolute;\n",
              "  width: 1px;\n",
              "}\n",
              "\n",
              "#sk-container-id-1 div.sk-dashed-wrapped {\n",
              "  border: 1px dashed var(--sklearn-color-line);\n",
              "  margin: 0 0.4em 0.5em 0.4em;\n",
              "  box-sizing: border-box;\n",
              "  padding-bottom: 0.4em;\n",
              "  background-color: var(--sklearn-color-background);\n",
              "}\n",
              "\n",
              "#sk-container-id-1 div.sk-container {\n",
              "  /* jupyter's `normalize.less` sets `[hidden] { display: none; }`\n",
              "     but bootstrap.min.css set `[hidden] { display: none !important; }`\n",
              "     so we also need the `!important` here to be able to override the\n",
              "     default hidden behavior on the sphinx rendered scikit-learn.org.\n",
              "     See: https://github.com/scikit-learn/scikit-learn/issues/21755 */\n",
              "  display: inline-block !important;\n",
              "  position: relative;\n",
              "}\n",
              "\n",
              "#sk-container-id-1 div.sk-text-repr-fallback {\n",
              "  display: none;\n",
              "}\n",
              "\n",
              "div.sk-parallel-item,\n",
              "div.sk-serial,\n",
              "div.sk-item {\n",
              "  /* draw centered vertical line to link estimators */\n",
              "  background-image: linear-gradient(var(--sklearn-color-text-on-default-background), var(--sklearn-color-text-on-default-background));\n",
              "  background-size: 2px 100%;\n",
              "  background-repeat: no-repeat;\n",
              "  background-position: center center;\n",
              "}\n",
              "\n",
              "/* Parallel-specific style estimator block */\n",
              "\n",
              "#sk-container-id-1 div.sk-parallel-item::after {\n",
              "  content: \"\";\n",
              "  width: 100%;\n",
              "  border-bottom: 2px solid var(--sklearn-color-text-on-default-background);\n",
              "  flex-grow: 1;\n",
              "}\n",
              "\n",
              "#sk-container-id-1 div.sk-parallel {\n",
              "  display: flex;\n",
              "  align-items: stretch;\n",
              "  justify-content: center;\n",
              "  background-color: var(--sklearn-color-background);\n",
              "  position: relative;\n",
              "}\n",
              "\n",
              "#sk-container-id-1 div.sk-parallel-item {\n",
              "  display: flex;\n",
              "  flex-direction: column;\n",
              "}\n",
              "\n",
              "#sk-container-id-1 div.sk-parallel-item:first-child::after {\n",
              "  align-self: flex-end;\n",
              "  width: 50%;\n",
              "}\n",
              "\n",
              "#sk-container-id-1 div.sk-parallel-item:last-child::after {\n",
              "  align-self: flex-start;\n",
              "  width: 50%;\n",
              "}\n",
              "\n",
              "#sk-container-id-1 div.sk-parallel-item:only-child::after {\n",
              "  width: 0;\n",
              "}\n",
              "\n",
              "/* Serial-specific style estimator block */\n",
              "\n",
              "#sk-container-id-1 div.sk-serial {\n",
              "  display: flex;\n",
              "  flex-direction: column;\n",
              "  align-items: center;\n",
              "  background-color: var(--sklearn-color-background);\n",
              "  padding-right: 1em;\n",
              "  padding-left: 1em;\n",
              "}\n",
              "\n",
              "\n",
              "/* Toggleable style: style used for estimator/Pipeline/ColumnTransformer box that is\n",
              "clickable and can be expanded/collapsed.\n",
              "- Pipeline and ColumnTransformer use this feature and define the default style\n",
              "- Estimators will overwrite some part of the style using the `sk-estimator` class\n",
              "*/\n",
              "\n",
              "/* Pipeline and ColumnTransformer style (default) */\n",
              "\n",
              "#sk-container-id-1 div.sk-toggleable {\n",
              "  /* Default theme specific background. It is overwritten whether we have a\n",
              "  specific estimator or a Pipeline/ColumnTransformer */\n",
              "  background-color: var(--sklearn-color-background);\n",
              "}\n",
              "\n",
              "/* Toggleable label */\n",
              "#sk-container-id-1 label.sk-toggleable__label {\n",
              "  cursor: pointer;\n",
              "  display: flex;\n",
              "  width: 100%;\n",
              "  margin-bottom: 0;\n",
              "  padding: 0.5em;\n",
              "  box-sizing: border-box;\n",
              "  text-align: center;\n",
              "  align-items: start;\n",
              "  justify-content: space-between;\n",
              "  gap: 0.5em;\n",
              "}\n",
              "\n",
              "#sk-container-id-1 label.sk-toggleable__label .caption {\n",
              "  font-size: 0.6rem;\n",
              "  font-weight: lighter;\n",
              "  color: var(--sklearn-color-text-muted);\n",
              "}\n",
              "\n",
              "#sk-container-id-1 label.sk-toggleable__label-arrow:before {\n",
              "  /* Arrow on the left of the label */\n",
              "  content: \"▸\";\n",
              "  float: left;\n",
              "  margin-right: 0.25em;\n",
              "  color: var(--sklearn-color-icon);\n",
              "}\n",
              "\n",
              "#sk-container-id-1 label.sk-toggleable__label-arrow:hover:before {\n",
              "  color: var(--sklearn-color-text);\n",
              "}\n",
              "\n",
              "/* Toggleable content - dropdown */\n",
              "\n",
              "#sk-container-id-1 div.sk-toggleable__content {\n",
              "  max-height: 0;\n",
              "  max-width: 0;\n",
              "  overflow: hidden;\n",
              "  text-align: left;\n",
              "  /* unfitted */\n",
              "  background-color: var(--sklearn-color-unfitted-level-0);\n",
              "}\n",
              "\n",
              "#sk-container-id-1 div.sk-toggleable__content.fitted {\n",
              "  /* fitted */\n",
              "  background-color: var(--sklearn-color-fitted-level-0);\n",
              "}\n",
              "\n",
              "#sk-container-id-1 div.sk-toggleable__content pre {\n",
              "  margin: 0.2em;\n",
              "  border-radius: 0.25em;\n",
              "  color: var(--sklearn-color-text);\n",
              "  /* unfitted */\n",
              "  background-color: var(--sklearn-color-unfitted-level-0);\n",
              "}\n",
              "\n",
              "#sk-container-id-1 div.sk-toggleable__content.fitted pre {\n",
              "  /* unfitted */\n",
              "  background-color: var(--sklearn-color-fitted-level-0);\n",
              "}\n",
              "\n",
              "#sk-container-id-1 input.sk-toggleable__control:checked~div.sk-toggleable__content {\n",
              "  /* Expand drop-down */\n",
              "  max-height: 200px;\n",
              "  max-width: 100%;\n",
              "  overflow: auto;\n",
              "}\n",
              "\n",
              "#sk-container-id-1 input.sk-toggleable__control:checked~label.sk-toggleable__label-arrow:before {\n",
              "  content: \"▾\";\n",
              "}\n",
              "\n",
              "/* Pipeline/ColumnTransformer-specific style */\n",
              "\n",
              "#sk-container-id-1 div.sk-label input.sk-toggleable__control:checked~label.sk-toggleable__label {\n",
              "  color: var(--sklearn-color-text);\n",
              "  background-color: var(--sklearn-color-unfitted-level-2);\n",
              "}\n",
              "\n",
              "#sk-container-id-1 div.sk-label.fitted input.sk-toggleable__control:checked~label.sk-toggleable__label {\n",
              "  background-color: var(--sklearn-color-fitted-level-2);\n",
              "}\n",
              "\n",
              "/* Estimator-specific style */\n",
              "\n",
              "/* Colorize estimator box */\n",
              "#sk-container-id-1 div.sk-estimator input.sk-toggleable__control:checked~label.sk-toggleable__label {\n",
              "  /* unfitted */\n",
              "  background-color: var(--sklearn-color-unfitted-level-2);\n",
              "}\n",
              "\n",
              "#sk-container-id-1 div.sk-estimator.fitted input.sk-toggleable__control:checked~label.sk-toggleable__label {\n",
              "  /* fitted */\n",
              "  background-color: var(--sklearn-color-fitted-level-2);\n",
              "}\n",
              "\n",
              "#sk-container-id-1 div.sk-label label.sk-toggleable__label,\n",
              "#sk-container-id-1 div.sk-label label {\n",
              "  /* The background is the default theme color */\n",
              "  color: var(--sklearn-color-text-on-default-background);\n",
              "}\n",
              "\n",
              "/* On hover, darken the color of the background */\n",
              "#sk-container-id-1 div.sk-label:hover label.sk-toggleable__label {\n",
              "  color: var(--sklearn-color-text);\n",
              "  background-color: var(--sklearn-color-unfitted-level-2);\n",
              "}\n",
              "\n",
              "/* Label box, darken color on hover, fitted */\n",
              "#sk-container-id-1 div.sk-label.fitted:hover label.sk-toggleable__label.fitted {\n",
              "  color: var(--sklearn-color-text);\n",
              "  background-color: var(--sklearn-color-fitted-level-2);\n",
              "}\n",
              "\n",
              "/* Estimator label */\n",
              "\n",
              "#sk-container-id-1 div.sk-label label {\n",
              "  font-family: monospace;\n",
              "  font-weight: bold;\n",
              "  display: inline-block;\n",
              "  line-height: 1.2em;\n",
              "}\n",
              "\n",
              "#sk-container-id-1 div.sk-label-container {\n",
              "  text-align: center;\n",
              "}\n",
              "\n",
              "/* Estimator-specific */\n",
              "#sk-container-id-1 div.sk-estimator {\n",
              "  font-family: monospace;\n",
              "  border: 1px dotted var(--sklearn-color-border-box);\n",
              "  border-radius: 0.25em;\n",
              "  box-sizing: border-box;\n",
              "  margin-bottom: 0.5em;\n",
              "  /* unfitted */\n",
              "  background-color: var(--sklearn-color-unfitted-level-0);\n",
              "}\n",
              "\n",
              "#sk-container-id-1 div.sk-estimator.fitted {\n",
              "  /* fitted */\n",
              "  background-color: var(--sklearn-color-fitted-level-0);\n",
              "}\n",
              "\n",
              "/* on hover */\n",
              "#sk-container-id-1 div.sk-estimator:hover {\n",
              "  /* unfitted */\n",
              "  background-color: var(--sklearn-color-unfitted-level-2);\n",
              "}\n",
              "\n",
              "#sk-container-id-1 div.sk-estimator.fitted:hover {\n",
              "  /* fitted */\n",
              "  background-color: var(--sklearn-color-fitted-level-2);\n",
              "}\n",
              "\n",
              "/* Specification for estimator info (e.g. \"i\" and \"?\") */\n",
              "\n",
              "/* Common style for \"i\" and \"?\" */\n",
              "\n",
              ".sk-estimator-doc-link,\n",
              "a:link.sk-estimator-doc-link,\n",
              "a:visited.sk-estimator-doc-link {\n",
              "  float: right;\n",
              "  font-size: smaller;\n",
              "  line-height: 1em;\n",
              "  font-family: monospace;\n",
              "  background-color: var(--sklearn-color-background);\n",
              "  border-radius: 1em;\n",
              "  height: 1em;\n",
              "  width: 1em;\n",
              "  text-decoration: none !important;\n",
              "  margin-left: 0.5em;\n",
              "  text-align: center;\n",
              "  /* unfitted */\n",
              "  border: var(--sklearn-color-unfitted-level-1) 1pt solid;\n",
              "  color: var(--sklearn-color-unfitted-level-1);\n",
              "}\n",
              "\n",
              ".sk-estimator-doc-link.fitted,\n",
              "a:link.sk-estimator-doc-link.fitted,\n",
              "a:visited.sk-estimator-doc-link.fitted {\n",
              "  /* fitted */\n",
              "  border: var(--sklearn-color-fitted-level-1) 1pt solid;\n",
              "  color: var(--sklearn-color-fitted-level-1);\n",
              "}\n",
              "\n",
              "/* On hover */\n",
              "div.sk-estimator:hover .sk-estimator-doc-link:hover,\n",
              ".sk-estimator-doc-link:hover,\n",
              "div.sk-label-container:hover .sk-estimator-doc-link:hover,\n",
              ".sk-estimator-doc-link:hover {\n",
              "  /* unfitted */\n",
              "  background-color: var(--sklearn-color-unfitted-level-3);\n",
              "  color: var(--sklearn-color-background);\n",
              "  text-decoration: none;\n",
              "}\n",
              "\n",
              "div.sk-estimator.fitted:hover .sk-estimator-doc-link.fitted:hover,\n",
              ".sk-estimator-doc-link.fitted:hover,\n",
              "div.sk-label-container:hover .sk-estimator-doc-link.fitted:hover,\n",
              ".sk-estimator-doc-link.fitted:hover {\n",
              "  /* fitted */\n",
              "  background-color: var(--sklearn-color-fitted-level-3);\n",
              "  color: var(--sklearn-color-background);\n",
              "  text-decoration: none;\n",
              "}\n",
              "\n",
              "/* Span, style for the box shown on hovering the info icon */\n",
              ".sk-estimator-doc-link span {\n",
              "  display: none;\n",
              "  z-index: 9999;\n",
              "  position: relative;\n",
              "  font-weight: normal;\n",
              "  right: .2ex;\n",
              "  padding: .5ex;\n",
              "  margin: .5ex;\n",
              "  width: min-content;\n",
              "  min-width: 20ex;\n",
              "  max-width: 50ex;\n",
              "  color: var(--sklearn-color-text);\n",
              "  box-shadow: 2pt 2pt 4pt #999;\n",
              "  /* unfitted */\n",
              "  background: var(--sklearn-color-unfitted-level-0);\n",
              "  border: .5pt solid var(--sklearn-color-unfitted-level-3);\n",
              "}\n",
              "\n",
              ".sk-estimator-doc-link.fitted span {\n",
              "  /* fitted */\n",
              "  background: var(--sklearn-color-fitted-level-0);\n",
              "  border: var(--sklearn-color-fitted-level-3);\n",
              "}\n",
              "\n",
              ".sk-estimator-doc-link:hover span {\n",
              "  display: block;\n",
              "}\n",
              "\n",
              "/* \"?\"-specific style due to the `<a>` HTML tag */\n",
              "\n",
              "#sk-container-id-1 a.estimator_doc_link {\n",
              "  float: right;\n",
              "  font-size: 1rem;\n",
              "  line-height: 1em;\n",
              "  font-family: monospace;\n",
              "  background-color: var(--sklearn-color-background);\n",
              "  border-radius: 1rem;\n",
              "  height: 1rem;\n",
              "  width: 1rem;\n",
              "  text-decoration: none;\n",
              "  /* unfitted */\n",
              "  color: var(--sklearn-color-unfitted-level-1);\n",
              "  border: var(--sklearn-color-unfitted-level-1) 1pt solid;\n",
              "}\n",
              "\n",
              "#sk-container-id-1 a.estimator_doc_link.fitted {\n",
              "  /* fitted */\n",
              "  border: var(--sklearn-color-fitted-level-1) 1pt solid;\n",
              "  color: var(--sklearn-color-fitted-level-1);\n",
              "}\n",
              "\n",
              "/* On hover */\n",
              "#sk-container-id-1 a.estimator_doc_link:hover {\n",
              "  /* unfitted */\n",
              "  background-color: var(--sklearn-color-unfitted-level-3);\n",
              "  color: var(--sklearn-color-background);\n",
              "  text-decoration: none;\n",
              "}\n",
              "\n",
              "#sk-container-id-1 a.estimator_doc_link.fitted:hover {\n",
              "  /* fitted */\n",
              "  background-color: var(--sklearn-color-fitted-level-3);\n",
              "}\n",
              "</style><div id=\"sk-container-id-1\" class=\"sk-top-container\"><div class=\"sk-text-repr-fallback\"><pre>RandomForestRegressor(random_state=42)</pre><b>In a Jupyter environment, please rerun this cell to show the HTML representation or trust the notebook. <br />On GitHub, the HTML representation is unable to render, please try loading this page with nbviewer.org.</b></div><div class=\"sk-container\" hidden><div class=\"sk-item\"><div class=\"sk-estimator fitted sk-toggleable\"><input class=\"sk-toggleable__control sk-hidden--visually\" id=\"sk-estimator-id-1\" type=\"checkbox\" checked><label for=\"sk-estimator-id-1\" class=\"sk-toggleable__label fitted sk-toggleable__label-arrow\"><div><div>RandomForestRegressor</div></div><div><a class=\"sk-estimator-doc-link fitted\" rel=\"noreferrer\" target=\"_blank\" href=\"https://scikit-learn.org/1.6/modules/generated/sklearn.ensemble.RandomForestRegressor.html\">?<span>Documentation for RandomForestRegressor</span></a><span class=\"sk-estimator-doc-link fitted\">i<span>Fitted</span></span></div></label><div class=\"sk-toggleable__content fitted\"><pre>RandomForestRegressor(random_state=42)</pre></div> </div></div></div></div>"
            ],
            "text/plain": [
              "RandomForestRegressor(random_state=42)"
            ]
          },
          "execution_count": 53,
          "metadata": {},
          "output_type": "execute_result"
        }
      ],
      "source": [
        "# Initialize and train the regression model\n",
        "model = RandomForestRegressor(random_state=42)\n",
        "model.fit(X_train, y_train)"
      ]
    },
    {
      "cell_type": "code",
      "execution_count": 54,
      "metadata": {
        "id": "F2DuGSVvp-ge"
      },
      "outputs": [],
      "source": [
        "# Make predictions\n",
        "y_pred = model.predict(X_test)"
      ]
    },
    {
      "cell_type": "code",
      "execution_count": 55,
      "metadata": {
        "colab": {
          "base_uri": "https://localhost:8080/"
        },
        "id": "vA9USuwHmlHo",
        "outputId": "01ef66a3-f991-4717-aac9-88298f8726d6"
      },
      "outputs": [
        {
          "data": {
            "text/plain": [
              "array([0., 0., 0., ..., 0., 0., 0.], shape=(3513,))"
            ]
          },
          "execution_count": 55,
          "metadata": {},
          "output_type": "execute_result"
        }
      ],
      "source": [
        "y_pred"
      ]
    },
    {
      "cell_type": "code",
      "execution_count": 56,
      "metadata": {
        "colab": {
          "base_uri": "https://localhost:8080/"
        },
        "id": "TqNV_lpQp-ku",
        "outputId": "2d550320-6006-420a-a154-9f5743189dbe"
      },
      "outputs": [
        {
          "name": "stdout",
          "output_type": "stream",
          "text": [
            "Mean Absolute Error (MAE): 0.01961855963563911\n"
          ]
        }
      ],
      "source": [
        "# Evaluate the model\n",
        "mae = mean_absolute_error(y_test, y_pred)\n",
        "print(f\"Mean Absolute Error (MAE): {mae}\")"
      ]
    },
    {
      "cell_type": "markdown",
      "metadata": {
        "id": "T1GslRNGqOXE"
      },
      "source": [
        "#### Make predictions on test"
      ]
    },
    {
      "cell_type": "code",
      "execution_count": 57,
      "metadata": {
        "id": "Ib8SvPj2p-nI"
      },
      "outputs": [],
      "source": [
        "# Prepare test data\n",
        "X_test_final = test_df.drop(columns=['Total', 'ID', 'Location'], errors='ignore')"
      ]
    },
    {
      "cell_type": "code",
      "execution_count": 58,
      "metadata": {
        "id": "VrP5gJL_qSWh"
      },
      "outputs": [],
      "source": [
        "# Handle categorical features in test data\n",
        "for col in categorical_cols:\n",
        "    if col in X_test_final.columns:\n",
        "        le = LabelEncoder()\n",
        "        X_test_final[col] = le.fit_transform(X_test_final[col])"
      ]
    },
    {
      "cell_type": "code",
      "execution_count": 59,
      "metadata": {
        "id": "pZCDt-4pqSbp"
      },
      "outputs": [],
      "source": [
        "# Align test dataset with training features\n",
        "for col in X.columns:\n",
        "    if col not in X_test_final.columns:\n",
        "        X_test_final[col] = 0  # Add missing feature with default value (e.g., zero)\n"
      ]
    },
    {
      "cell_type": "code",
      "execution_count": 60,
      "metadata": {
        "id": "7aa5xCTaqSeM"
      },
      "outputs": [],
      "source": [
        "# Ensure columns are in the same order as training\n",
        "X_test_final = X_test_final[X.columns]"
      ]
    },
    {
      "cell_type": "code",
      "execution_count": 61,
      "metadata": {
        "id": "jab5dNx5p-pa"
      },
      "outputs": [],
      "source": [
        "# Make predictions on test data\n",
        "predictions = model.predict(X_test_final)"
      ]
    },
    {
      "cell_type": "code",
      "execution_count": 260,
      "metadata": {
        "id": "qQeCIYOTy4Ud"
      },
      "outputs": [],
      "source": []
    },
    {
      "cell_type": "code",
      "execution_count": 62,
      "metadata": {
        "id": "pdLN9yUmqX-L"
      },
      "outputs": [],
      "source": [
        "# Create the final DataFrame with ID and predictions\n",
        "sub = test_df[['ID']].copy()\n",
        "sub['Predicted_Total'] = predictions"
      ]
    },
    {
      "cell_type": "code",
      "execution_count": 63,
      "metadata": {
        "colab": {
          "base_uri": "https://localhost:8080/",
          "height": 206
        },
        "id": "MHSwmT4xXnry",
        "outputId": "9be7c1b4-7348-4547-c7d5-0a67431008e6"
      },
      "outputs": [
        {
          "data": {
            "text/html": [
              "<div>\n",
              "<style scoped>\n",
              "    .dataframe tbody tr th:only-of-type {\n",
              "        vertical-align: middle;\n",
              "    }\n",
              "\n",
              "    .dataframe tbody tr th {\n",
              "        vertical-align: top;\n",
              "    }\n",
              "\n",
              "    .dataframe thead th {\n",
              "        text-align: right;\n",
              "    }\n",
              "</style>\n",
              "<table border=\"1\" class=\"dataframe\">\n",
              "  <thead>\n",
              "    <tr style=\"text-align: right;\">\n",
              "      <th></th>\n",
              "      <th>ID</th>\n",
              "      <th>Predicted_Total</th>\n",
              "    </tr>\n",
              "  </thead>\n",
              "  <tbody>\n",
              "    <tr>\n",
              "      <th>17564</th>\n",
              "      <td>ID_00cd8292-dd85-4fa3-8148-9592e88a1651_1_2023...</td>\n",
              "      <td>0.0</td>\n",
              "    </tr>\n",
              "    <tr>\n",
              "      <th>17565</th>\n",
              "      <td>ID_00cd8292-dd85-4fa3-8148-9592e88a1651_2_2023...</td>\n",
              "      <td>0.0</td>\n",
              "    </tr>\n",
              "    <tr>\n",
              "      <th>17566</th>\n",
              "      <td>ID_00cd8292-dd85-4fa3-8148-9592e88a1651_3_2023...</td>\n",
              "      <td>0.0</td>\n",
              "    </tr>\n",
              "    <tr>\n",
              "      <th>17567</th>\n",
              "      <td>ID_00cd8292-dd85-4fa3-8148-9592e88a1651_4_2023...</td>\n",
              "      <td>0.0</td>\n",
              "    </tr>\n",
              "    <tr>\n",
              "      <th>17568</th>\n",
              "      <td>ID_00cd8292-dd85-4fa3-8148-9592e88a1651_5_2023...</td>\n",
              "      <td>0.0</td>\n",
              "    </tr>\n",
              "  </tbody>\n",
              "</table>\n",
              "</div>"
            ],
            "text/plain": [
              "                                                      ID  Predicted_Total\n",
              "17564  ID_00cd8292-dd85-4fa3-8148-9592e88a1651_1_2023...              0.0\n",
              "17565  ID_00cd8292-dd85-4fa3-8148-9592e88a1651_2_2023...              0.0\n",
              "17566  ID_00cd8292-dd85-4fa3-8148-9592e88a1651_3_2023...              0.0\n",
              "17567  ID_00cd8292-dd85-4fa3-8148-9592e88a1651_4_2023...              0.0\n",
              "17568  ID_00cd8292-dd85-4fa3-8148-9592e88a1651_5_2023...              0.0"
            ]
          },
          "execution_count": 63,
          "metadata": {},
          "output_type": "execute_result"
        }
      ],
      "source": [
        "# View the first few records in sub\n",
        "sub.head()"
      ]
    },
    {
      "cell_type": "code",
      "execution_count": 64,
      "metadata": {
        "id": "6J0TCDmUqZE9"
      },
      "outputs": [],
      "source": [
        "# Save the final DataFrame to a CSV\n",
        "sub.to_csv(data_dir / 'Benchmark.csv', index=False)"
      ]
    }
  ],
  "metadata": {
    "colab": {
      "provenance": []
    },
    "kernelspec": {
      "display_name": "zindienv",
      "language": "python",
      "name": "python3"
    },
    "language_info": {
      "codemirror_mode": {
        "name": "ipython",
        "version": 3
      },
      "file_extension": ".py",
      "mimetype": "text/x-python",
      "name": "python",
      "nbconvert_exporter": "python",
      "pygments_lexer": "ipython3",
      "version": "3.12.3"
    }
  },
  "nbformat": 4,
  "nbformat_minor": 0
}
