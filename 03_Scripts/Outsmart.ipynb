{
  "cells": [
    {
      "cell_type": "code",
      "execution_count": 1,
      "metadata": {
        "id": "eoOtsnpOmSMO"
      },
      "outputs": [],
      "source": [
        "# Import necessary libraries\n",
        "import logging\n",
        "import pandas as pd\n",
        "import numpy as np\n",
        "\n",
        "import matplotlib.pyplot as plt\n",
        "import seaborn as sns\n",
        "\n",
        "from scipy.spatial import cKDTree\n",
        "\n",
        "from sklearn.model_selection import train_test_split\n",
        "from sklearn.ensemble import RandomForestRegressor\n",
        "from sklearn.preprocessing import LabelEncoder\n",
        "from sklearn.metrics import mean_absolute_error\n",
        "\n",
        "from pathlib import Path"
      ]
    },
    {
      "cell_type": "code",
      "execution_count": 13,
      "metadata": {},
      "outputs": [],
      "source": [
        "# Setup logging\n",
        "logging.basicConfig(level=logging.INFO)\n",
        "logger = logging.getLogger(__name__)"
      ]
    },
    {
      "cell_type": "code",
      "execution_count": 14,
      "metadata": {},
      "outputs": [],
      "source": [
        "# Set Base Directory\n",
        "base_dir = Path.cwd().parent  # Moves one level up from current working directory\n",
        "\n",
        "# Data Directory\n",
        "data_dir = base_dir / '02_Data'"
      ]
    },
    {
      "cell_type": "code",
      "execution_count": 15,
      "metadata": {
        "id": "77s3XlNnm1Ic"
      },
      "outputs": [],
      "source": [
        "# Load datasets\n",
        "train = pd.read_csv(data_dir / \"Train.csv\")\n",
        "test = pd.read_csv(data_dir / \"Test.csv\")\n",
        "toilets = pd.read_csv(data_dir / \"toilets.csv\")\n",
        "waste_management = pd.read_csv(data_dir / \"waste_management.csv\")\n",
        "water_sources = pd.read_csv(data_dir / \"water_sources.csv\")"
      ]
    },
    {
      "cell_type": "code",
      "execution_count": 16,
      "metadata": {
        "id": "P0b_prP7m1LL"
      },
      "outputs": [],
      "source": [
        "# Combine train and test datasets for consistent preprocessing\n",
        "hospital_data = pd.concat([train, test])"
      ]
    },
    {
      "cell_type": "code",
      "execution_count": 17,
      "metadata": {
        "id": "dQM9IQDSm1NW"
      },
      "outputs": [],
      "source": [
        "# Drop unnecessary columns from supplementary datasets\n",
        "for df in [toilets, waste_management, water_sources]:\n",
        "    df.drop(columns=['Year', 'Month'], inplace=True)"
      ]
    },
    {
      "cell_type": "code",
      "execution_count": 18,
      "metadata": {
        "id": "-ZC07j0Am1Pu"
      },
      "outputs": [],
      "source": [
        "# Rename columns for clarity\n",
        "def rename_columns(df, prefix):\n",
        "    for col in df.columns:\n",
        "        if col not in ['Month_Year_lat_lon', 'lat_lon']:\n",
        "            df.rename(columns={col: f\"{prefix}_{col}\"}, inplace=True)\n",
        "\n",
        "rename_columns(toilets, \"toilet\")\n",
        "rename_columns(waste_management, \"waste\")\n",
        "rename_columns(water_sources, \"water\")\n"
      ]
    },
    {
      "cell_type": "code",
      "execution_count": null,
      "metadata": {
        "colab": {
          "base_uri": "https://localhost:8080/"
        },
        "id": "XBbt0l3Um1SP",
        "outputId": "a04607d4-0f49-422f-dff5-8ec88d4eb174"
      },
      "outputs": [],
      "source": [
        "# Fill missing values in the 'Total' column\n",
        "hospital_data['Total'].fillna(0, inplace=True)"
      ]
    },
    {
      "cell_type": "code",
      "execution_count": 20,
      "metadata": {
        "id": "NfTHBfvEm1Uu"
      },
      "outputs": [],
      "source": [
        "# Drop rows with missing latitude and longitude in water sources\n",
        "water_sources.dropna(subset=['water_Transformed_Latitude'], inplace=True)"
      ]
    },
    {
      "cell_type": "code",
      "execution_count": 21,
      "metadata": {
        "id": "E7bOibx7m1Xd"
      },
      "outputs": [],
      "source": [
        "# Visualize locations for a specific year and month\n",
        "# Note the months/year should in the given timeframe [2019, 2023]\n",
        "def plot_locations(year=2022, month=1, month_name='January'):\n",
        "    if year < 2019 or year > 2023:\n",
        "        print(\"Invalid year. Please choose a year between 2019 and 2023.\")\n",
        "        return\n",
        "\n",
        "    if month < 1 or month > 12:\n",
        "        print(\"Invalid month. Please choose a month between 1 and 12.\")\n",
        "        return\n",
        "\n",
        "    if month_name.capitalize() not in ['January', 'February', 'March',\n",
        "                                       'April', 'May', 'June', 'July',\n",
        "                                       'August', 'September', 'October',\n",
        "                                       'November', 'December']:\n",
        "        print(\"Invalid month name. Please choose from 'January' to 'December'.\")\n",
        "        return\n",
        "\n",
        "    plt.figure(figsize=(12, 8))\n",
        "    subsets = [\n",
        "        (hospital_data.query(f\"Year == {year} and Month == {month}\"), 'Transformed', 'Hospital', 's'),\n",
        "        (water_sources.query(f\"water_Month_Year == '{month}_{year}'\"), 'water_Transformed', 'Water', 'o'),\n",
        "        (waste_management.query(f\"waste_Month_Year == '{month}_{year}'\"), 'waste_Transformed', 'Waste', 'x'),\n",
        "        (toilets.query(f\"toilet_Month_Year == '{month}_{year}'\"), 'toilet_Transformed', 'Toilet', '^'),\n",
        "    ]\n",
        "    for df, prefix, label, marker in subsets:\n",
        "        plt.scatter(df[f'{prefix}_Longitude'], df[f'{prefix}_Latitude'], label=label, alpha=0.6, marker=marker)\n",
        "    plt.title(f'Locations ({month_name.capitalize()} {year})')\n",
        "    plt.xlabel('Longitude')\n",
        "    plt.ylabel('Latitude')\n",
        "    plt.legend()\n",
        "    plt.grid(True)\n",
        "    plt.show()"
      ]
    },
    {
      "cell_type": "code",
      "execution_count": null,
      "metadata": {
        "colab": {
          "base_uri": "https://localhost:8080/",
          "height": 559
        },
        "id": "3O4er4lYm1bS",
        "outputId": "eeca8427-b8fb-4e70-b96d-e1c6d2e76b11"
      },
      "outputs": [],
      "source": [
        "plot_locations()"
      ]
    },
    {
      "cell_type": "code",
      "execution_count": null,
      "metadata": {
        "colab": {
          "base_uri": "https://localhost:8080/",
          "height": 559
        },
        "id": "e4Ru14OsPzn0",
        "outputId": "841c68f6-b17f-424a-caa7-9f0d98b2b894"
      },
      "outputs": [],
      "source": [
        "plot_locations(year=2023, month=2, month_name='February')"
      ]
    },
    {
      "cell_type": "code",
      "execution_count": null,
      "metadata": {
        "colab": {
          "base_uri": "https://localhost:8080/",
          "height": 559
        },
        "id": "7nL7bzNrRikw",
        "outputId": "c796d6ea-3dfd-42f7-dfcb-5f0238296544"
      },
      "outputs": [],
      "source": [
        "plot_locations(year=2023, month=12, month_name='December')"
      ]
    },
    {
      "cell_type": "code",
      "execution_count": null,
      "metadata": {
        "colab": {
          "base_uri": "https://localhost:8080/"
        },
        "id": "km20S7mgSMOP",
        "outputId": "ec55b7bc-d2ea-4d0b-ef12-c7ac3e7996ab"
      },
      "outputs": [],
      "source": [
        "plot_locations(year=2000, month=1, month_name='January')"
      ]
    },
    {
      "cell_type": "code",
      "execution_count": 26,
      "metadata": {
        "id": "vJk_JmwXm1eR"
      },
      "outputs": [],
      "source": [
        "def find_nearest(hospital_df, location_df, lat_col, lon_col, id_col):\n",
        "    # Create a cKDTree for efficient nearest neighbour search\n",
        "    tree = cKDTree(location_df[[lat_col, lon_col]].values)\n",
        "    nearest = {}\n",
        "    # Loop through each hospital and find the nearest site in location_df\n",
        "    for _, row in hospital_df.iterrows():\n",
        "        _, idx = tree.query([row['Transformed_Latitude'], row['Transformed_Longitude']])\n",
        "        nearest[row['ID']] = location_df.iloc[idx][id_col]\n",
        "    return nearest\n"
      ]
    },
    {
      "cell_type": "code",
      "execution_count": 27,
      "metadata": {
        "id": "55h7ySyeoTQS"
      },
      "outputs": [],
      "source": [
        "# Ensure unique identifier columns exist in all supplementary datasets\n",
        "for df, prefix in [(toilets, 'toilet'), (waste_management, 'waste'), (water_sources, 'water')]:\n",
        "    df[f\"{prefix}_Month_Year_lat_lon\"] = (\n",
        "        df[f\"{prefix}_Month_Year\"] + '_' +\n",
        "        df[f\"{prefix}_Transformed_Latitude\"].astype(str) + '_' +\n",
        "        df[f\"{prefix}_Transformed_Longitude\"].astype(str)\n",
        "    )"
      ]
    },
    {
      "cell_type": "code",
      "execution_count": null,
      "metadata": {
        "colab": {
          "base_uri": "https://localhost:8080/",
          "height": 256
        },
        "id": "1hAqWjt3U7ry",
        "outputId": "613989e4-7a67-430f-d0c0-64cc9e2c04e1"
      },
      "outputs": [],
      "source": [
        "toilets.head()"
      ]
    },
    {
      "cell_type": "code",
      "execution_count": 29,
      "metadata": {
        "id": "KVikZCpJneHF"
      },
      "outputs": [],
      "source": [
        "# Merge datasets with nearest locations\n",
        "merged_data = hospital_data.copy()\n",
        "datasets = [\n",
        "    (toilets, 'toilet', 'toilet_Month_Year_lat_lon'),\n",
        "    (waste_management, 'waste', 'waste_Month_Year_lat_lon'),\n",
        "    (water_sources, 'water', 'water_Month_Year_lat_lon'),\n",
        "]"
      ]
    },
    {
      "cell_type": "code",
      "execution_count": 30,
      "metadata": {
        "id": "2Nkmm7HxnevS"
      },
      "outputs": [],
      "source": [
        "for df, prefix, id_col in datasets:\n",
        "    nearest = find_nearest(merged_data, df, f\"{prefix}_Transformed_Latitude\", f\"{prefix}_Transformed_Longitude\", id_col)\n",
        "    nearest_df = pd.DataFrame(list(nearest.items()), columns=['ID', id_col])\n",
        "    merged_data = merged_data.merge(nearest_df, on=\"ID\").merge(df, on=id_col)"
      ]
    },
    {
      "cell_type": "code",
      "execution_count": null,
      "metadata": {
        "colab": {
          "base_uri": "https://localhost:8080/"
        },
        "id": "gJO7vR3YV_t0",
        "outputId": "a71b2340-900c-4790-c1a3-c11da0e86665"
      },
      "outputs": [],
      "source": [
        "merged_data.shape"
      ]
    },
    {
      "cell_type": "code",
      "execution_count": null,
      "metadata": {
        "colab": {
          "base_uri": "https://localhost:8080/",
          "height": 266
        },
        "id": "z_KM_F1sWN31",
        "outputId": "db91fba8-f06c-4108-b46d-7db5cba6aeee"
      },
      "outputs": [],
      "source": [
        "merged_data.head(2)"
      ]
    },
    {
      "cell_type": "markdown",
      "metadata": {
        "id": "5ZB6-U9UnhC_"
      },
      "source": [
        "## Start modeling"
      ]
    },
    {
      "cell_type": "code",
      "execution_count": 33,
      "metadata": {
        "id": "_8vI4Z2Pnmmw"
      },
      "outputs": [],
      "source": [
        "# Split merged data into train and test sets\n",
        "train_df = merged_data[merged_data['Year'] < 2023]\n",
        "test_df = merged_data[merged_data['Year'] == 2023]"
      ]
    },
    {
      "cell_type": "code",
      "execution_count": 34,
      "metadata": {
        "id": "ythI0pe-p-Qy"
      },
      "outputs": [],
      "source": [
        "# Specify the target column\n",
        "target_column = 'Total'\n",
        "\n",
        "# Feature and target split\n",
        "X = train_df.drop(columns=[target_column, 'ID', 'Location'])  # Exclude unnecessary columns\n",
        "y = train_df[target_column]"
      ]
    },
    {
      "cell_type": "code",
      "execution_count": 35,
      "metadata": {
        "id": "INIUEtEyp-TO"
      },
      "outputs": [],
      "source": [
        "# Handle categorical features\n",
        "categorical_cols = X.select_dtypes(include=['object']).columns\n",
        "for col in categorical_cols:\n",
        "    le = LabelEncoder()\n",
        "    X[col] = le.fit_transform(X[col])\n"
      ]
    },
    {
      "cell_type": "code",
      "execution_count": 36,
      "metadata": {
        "id": "l0D0795ep-YC"
      },
      "outputs": [],
      "source": [
        "# Split the dataset\n",
        "X_train, X_test, y_train, y_test = train_test_split(X, y, test_size=0.2, random_state=42)"
      ]
    },
    {
      "cell_type": "code",
      "execution_count": null,
      "metadata": {
        "colab": {
          "base_uri": "https://localhost:8080/",
          "height": 80
        },
        "id": "w5hzunK8p-de",
        "outputId": "3a3598f2-f8a9-4849-944a-0edec4124a5f"
      },
      "outputs": [],
      "source": [
        "# Initialize and train the regression model\n",
        "model = RandomForestRegressor(random_state=42)\n",
        "model.fit(X_train, y_train)"
      ]
    },
    {
      "cell_type": "code",
      "execution_count": 38,
      "metadata": {
        "id": "F2DuGSVvp-ge"
      },
      "outputs": [],
      "source": [
        "# Make predictions\n",
        "y_pred = model.predict(X_test)"
      ]
    },
    {
      "cell_type": "code",
      "execution_count": null,
      "metadata": {
        "colab": {
          "base_uri": "https://localhost:8080/"
        },
        "id": "vA9USuwHmlHo",
        "outputId": "01ef66a3-f991-4717-aac9-88298f8726d6"
      },
      "outputs": [],
      "source": [
        "y_pred"
      ]
    },
    {
      "cell_type": "code",
      "execution_count": null,
      "metadata": {
        "colab": {
          "base_uri": "https://localhost:8080/"
        },
        "id": "TqNV_lpQp-ku",
        "outputId": "2d550320-6006-420a-a154-9f5743189dbe"
      },
      "outputs": [],
      "source": [
        "# Evaluate the model\n",
        "mae = mean_absolute_error(y_test, y_pred)\n",
        "print(f\"Mean Absolute Error (MAE): {mae}\")"
      ]
    },
    {
      "cell_type": "markdown",
      "metadata": {
        "id": "T1GslRNGqOXE"
      },
      "source": [
        "#### Make predictions on test"
      ]
    },
    {
      "cell_type": "code",
      "execution_count": 41,
      "metadata": {
        "id": "Ib8SvPj2p-nI"
      },
      "outputs": [],
      "source": [
        "# Prepare test data\n",
        "X_test_final = test_df.drop(columns=['Total', 'ID', 'Location'], errors='ignore')"
      ]
    },
    {
      "cell_type": "code",
      "execution_count": 42,
      "metadata": {
        "id": "VrP5gJL_qSWh"
      },
      "outputs": [],
      "source": [
        "# Handle categorical features in test data\n",
        "for col in categorical_cols:\n",
        "    if col in X_test_final.columns:\n",
        "        le = LabelEncoder()\n",
        "        X_test_final[col] = le.fit_transform(X_test_final[col])"
      ]
    },
    {
      "cell_type": "code",
      "execution_count": 43,
      "metadata": {
        "id": "pZCDt-4pqSbp"
      },
      "outputs": [],
      "source": [
        "# Align test dataset with training features\n",
        "for col in X.columns:\n",
        "    if col not in X_test_final.columns:\n",
        "        X_test_final[col] = 0  # Add missing feature with default value (e.g., zero)\n"
      ]
    },
    {
      "cell_type": "code",
      "execution_count": 44,
      "metadata": {
        "id": "7aa5xCTaqSeM"
      },
      "outputs": [],
      "source": [
        "# Ensure columns are in the same order as training\n",
        "X_test_final = X_test_final[X.columns]"
      ]
    },
    {
      "cell_type": "code",
      "execution_count": 45,
      "metadata": {
        "id": "jab5dNx5p-pa"
      },
      "outputs": [],
      "source": [
        "# Make predictions on test data\n",
        "predictions = model.predict(X_test_final)"
      ]
    },
    {
      "cell_type": "code",
      "execution_count": 260,
      "metadata": {
        "id": "qQeCIYOTy4Ud"
      },
      "outputs": [],
      "source": []
    },
    {
      "cell_type": "code",
      "execution_count": 46,
      "metadata": {
        "id": "pdLN9yUmqX-L"
      },
      "outputs": [],
      "source": [
        "# Create the final DataFrame with ID and predictions\n",
        "sub = test_df[['ID']].copy()\n",
        "sub['Predicted_Total'] = predictions"
      ]
    },
    {
      "cell_type": "code",
      "execution_count": null,
      "metadata": {
        "colab": {
          "base_uri": "https://localhost:8080/",
          "height": 206
        },
        "id": "MHSwmT4xXnry",
        "outputId": "9be7c1b4-7348-4547-c7d5-0a67431008e6"
      },
      "outputs": [],
      "source": [
        "# View the first few records in sub\n",
        "sub.head()"
      ]
    },
    {
      "cell_type": "code",
      "execution_count": 48,
      "metadata": {
        "id": "6J0TCDmUqZE9"
      },
      "outputs": [],
      "source": [
        "# Save the final DataFrame to a CSV\n",
        "sub.to_csv(data_dir / 'Benchmark.csv', index=False)"
      ]
    }
  ],
  "metadata": {
    "colab": {
      "provenance": []
    },
    "kernelspec": {
      "display_name": "zindienv",
      "language": "python",
      "name": "python3"
    },
    "language_info": {
      "codemirror_mode": {
        "name": "ipython",
        "version": 3
      },
      "file_extension": ".py",
      "mimetype": "text/x-python",
      "name": "python",
      "nbconvert_exporter": "python",
      "pygments_lexer": "ipython3",
      "version": "3.12.3"
    }
  },
  "nbformat": 4,
  "nbformat_minor": 0
}
